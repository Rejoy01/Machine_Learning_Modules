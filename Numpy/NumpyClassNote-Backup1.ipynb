{
 "cells": [
  {
   "cell_type": "code",
   "execution_count": 1,
   "id": "4469c341",
   "metadata": {},
   "outputs": [],
   "source": [
    "#install Python package - Numpy\n",
    "#pip install numpy"
   ]
  },
  {
   "cell_type": "code",
   "execution_count": 1,
   "id": "8c653906",
   "metadata": {},
   "outputs": [],
   "source": [
    "import numpy as np"
   ]
  },
  {
   "cell_type": "code",
   "execution_count": 3,
   "id": "6b42f700",
   "metadata": {},
   "outputs": [],
   "source": [
    "myList=[1,2,3,4,5]\n",
    "stringList=[\"apple\",\"orange\"]     "
   ]
  },
  {
   "cell_type": "code",
   "execution_count": 4,
   "id": "bea96206",
   "metadata": {},
   "outputs": [
    {
     "name": "stdout",
     "output_type": "stream",
     "text": [
      "[1, 2, 3, 4, 5]\n",
      "['apple', 'orange']\n"
     ]
    }
   ],
   "source": [
    "print(myList)\n",
    "print(stringList)"
   ]
  },
  {
   "cell_type": "code",
   "execution_count": 5,
   "id": "77995f0c",
   "metadata": {},
   "outputs": [
    {
     "data": {
      "text/plain": [
       "[1, 2, 3, 4, 5]"
      ]
     },
     "execution_count": 5,
     "metadata": {},
     "output_type": "execute_result"
    }
   ],
   "source": [
    "myList"
   ]
  },
  {
   "cell_type": "code",
   "execution_count": 6,
   "id": "32c0b776",
   "metadata": {},
   "outputs": [
    {
     "data": {
      "text/plain": [
       "list"
      ]
     },
     "execution_count": 6,
     "metadata": {},
     "output_type": "execute_result"
    }
   ],
   "source": [
    "type(myList)"
   ]
  },
  {
   "cell_type": "code",
   "execution_count": 7,
   "id": "b94bd505",
   "metadata": {},
   "outputs": [],
   "source": [
    "# dir(np)"
   ]
  },
  {
   "cell_type": "code",
   "execution_count": 8,
   "id": "0e9ffc37",
   "metadata": {},
   "outputs": [],
   "source": [
    "#help(np)"
   ]
  },
  {
   "cell_type": "code",
   "execution_count": 9,
   "id": "d4347e10",
   "metadata": {},
   "outputs": [],
   "source": [
    "arr = np.array(myList)"
   ]
  },
  {
   "cell_type": "code",
   "execution_count": 10,
   "id": "890ea2df",
   "metadata": {},
   "outputs": [
    {
     "name": "stdout",
     "output_type": "stream",
     "text": [
      "[1 2 3 4 5]\n",
      "<class 'numpy.ndarray'>\n"
     ]
    }
   ],
   "source": [
    "print(arr)\n",
    "print(type(arr))"
   ]
  },
  {
   "cell_type": "code",
   "execution_count": 11,
   "id": "ea18926d",
   "metadata": {},
   "outputs": [
    {
     "data": {
      "text/plain": [
       "(5,)"
      ]
     },
     "execution_count": 11,
     "metadata": {},
     "output_type": "execute_result"
    }
   ],
   "source": [
    "#shape of array\n",
    "arr.shape"
   ]
  },
  {
   "cell_type": "code",
   "execution_count": 12,
   "id": "a45ffe7a",
   "metadata": {},
   "outputs": [
    {
     "data": {
      "text/plain": [
       "5"
      ]
     },
     "execution_count": 12,
     "metadata": {},
     "output_type": "execute_result"
    }
   ],
   "source": [
    "arr.size"
   ]
  },
  {
   "cell_type": "code",
   "execution_count": 13,
   "id": "251e14da",
   "metadata": {},
   "outputs": [],
   "source": [
    "my_list1=[1,2,3,4,5]\n",
    "my_list2=[2,3,4,5,6]\n",
    "my_list3=[9,7,6,8,9]\n",
    "arr = np.array([my_list1,my_list2,my_list3])"
   ]
  },
  {
   "cell_type": "code",
   "execution_count": 14,
   "id": "d63539a6",
   "metadata": {},
   "outputs": [
    {
     "data": {
      "text/plain": [
       "array([[1, 2, 3, 4, 5],\n",
       "       [2, 3, 4, 5, 6],\n",
       "       [9, 7, 6, 8, 9]])"
      ]
     },
     "execution_count": 14,
     "metadata": {},
     "output_type": "execute_result"
    }
   ],
   "source": [
    "arr"
   ]
  },
  {
   "cell_type": "code",
   "execution_count": 15,
   "id": "ab7bbaf2",
   "metadata": {},
   "outputs": [
    {
     "data": {
      "text/plain": [
       "numpy.ndarray"
      ]
     },
     "execution_count": 15,
     "metadata": {},
     "output_type": "execute_result"
    }
   ],
   "source": [
    "type(arr)"
   ]
  },
  {
   "cell_type": "code",
   "execution_count": 16,
   "id": "942fc101",
   "metadata": {},
   "outputs": [
    {
     "data": {
      "text/plain": [
       "(3, 5)"
      ]
     },
     "execution_count": 16,
     "metadata": {},
     "output_type": "execute_result"
    }
   ],
   "source": [
    "arr.shape"
   ]
  },
  {
   "cell_type": "code",
   "execution_count": 17,
   "id": "79cd84e1",
   "metadata": {},
   "outputs": [
    {
     "data": {
      "text/plain": [
       "15"
      ]
     },
     "execution_count": 17,
     "metadata": {},
     "output_type": "execute_result"
    }
   ],
   "source": [
    "arr.size"
   ]
  },
  {
   "cell_type": "code",
   "execution_count": 18,
   "id": "defdb4c4",
   "metadata": {},
   "outputs": [],
   "source": [
    "#Numpy array indexing\n",
    "# Get the first from the following  array :\n",
    "my_List1 = [1,2,3,4,5]\n",
    "arr = np.array(my_List1)"
   ]
  },
  {
   "cell_type": "code",
   "execution_count": 19,
   "id": "ab783634",
   "metadata": {},
   "outputs": [
    {
     "data": {
      "text/plain": [
       "array([1, 2, 3, 4, 5])"
      ]
     },
     "execution_count": 19,
     "metadata": {},
     "output_type": "execute_result"
    }
   ],
   "source": [
    "arr"
   ]
  },
  {
   "cell_type": "code",
   "execution_count": 20,
   "id": "4d06cf1f",
   "metadata": {},
   "outputs": [
    {
     "name": "stdout",
     "output_type": "stream",
     "text": [
      "1\n"
     ]
    }
   ],
   "source": [
    "print(arr[0])"
   ]
  },
  {
   "cell_type": "code",
   "execution_count": 21,
   "id": "c6952005",
   "metadata": {},
   "outputs": [
    {
     "name": "stdout",
     "output_type": "stream",
     "text": [
      "2\n"
     ]
    }
   ],
   "source": [
    "print(arr[1])"
   ]
  },
  {
   "cell_type": "code",
   "execution_count": 22,
   "id": "3fee036a",
   "metadata": {},
   "outputs": [
    {
     "name": "stdout",
     "output_type": "stream",
     "text": [
      "The third element is : 3 and the fourth element is : 4\n"
     ]
    }
   ],
   "source": [
    "print(\"The third element is :\",arr[2],\"and the fourth element is :\",arr[3])"
   ]
  },
  {
   "cell_type": "code",
   "execution_count": 23,
   "id": "224de9ef",
   "metadata": {},
   "outputs": [],
   "source": [
    "# Acess 2D array\n",
    "my_list1=[1,2,3,4,5]\n",
    "my_list2=[2,3,4,5,6]\n",
    "my_list3=[9,7,6,8,9]\n",
    "arr = np.array([my_list1,my_list2,my_list3])"
   ]
  },
  {
   "cell_type": "code",
   "execution_count": 24,
   "id": "8d09e634",
   "metadata": {},
   "outputs": [
    {
     "data": {
      "text/plain": [
       "array([[1, 2, 3, 4, 5],\n",
       "       [2, 3, 4, 5, 6],\n",
       "       [9, 7, 6, 8, 9]])"
      ]
     },
     "execution_count": 24,
     "metadata": {},
     "output_type": "execute_result"
    }
   ],
   "source": [
    "arr\n"
   ]
  },
  {
   "cell_type": "code",
   "execution_count": 25,
   "id": "8ae18831",
   "metadata": {},
   "outputs": [
    {
     "data": {
      "text/plain": [
       "4"
      ]
     },
     "execution_count": 25,
     "metadata": {},
     "output_type": "execute_result"
    }
   ],
   "source": [
    "arr[1,2]"
   ]
  },
  {
   "cell_type": "code",
   "execution_count": 26,
   "id": "5d80cbf8",
   "metadata": {},
   "outputs": [
    {
     "name": "stdout",
     "output_type": "stream",
     "text": [
      "4\n"
     ]
    }
   ],
   "source": [
    "print(arr[1,2])"
   ]
  },
  {
   "cell_type": "code",
   "execution_count": 27,
   "id": "21440d39",
   "metadata": {},
   "outputs": [
    {
     "data": {
      "text/plain": [
       "array([1, 2, 3, 4, 5])"
      ]
     },
     "execution_count": 27,
     "metadata": {},
     "output_type": "execute_result"
    }
   ],
   "source": [
    "arr[0]"
   ]
  },
  {
   "cell_type": "code",
   "execution_count": 28,
   "id": "e707c0fe",
   "metadata": {},
   "outputs": [
    {
     "data": {
      "text/plain": [
       "3"
      ]
     },
     "execution_count": 28,
     "metadata": {},
     "output_type": "execute_result"
    }
   ],
   "source": [
    "arr[0,2]"
   ]
  },
  {
   "cell_type": "code",
   "execution_count": 29,
   "id": "58c7595a",
   "metadata": {},
   "outputs": [
    {
     "name": "stdout",
     "output_type": "stream",
     "text": [
      "2nd element on 1st row 2\n"
     ]
    }
   ],
   "source": [
    "print(\"2nd element on 1st row\",arr[0,1])"
   ]
  },
  {
   "cell_type": "code",
   "execution_count": 30,
   "id": "e11d1543",
   "metadata": {},
   "outputs": [
    {
     "data": {
      "text/plain": [
       "6"
      ]
     },
     "execution_count": 30,
     "metadata": {},
     "output_type": "execute_result"
    }
   ],
   "source": [
    "#Access the element on the 2nd rowb ,5th element\n",
    "arr[1,4]"
   ]
  },
  {
   "cell_type": "code",
   "execution_count": 31,
   "id": "fe843cac",
   "metadata": {},
   "outputs": [
    {
     "name": "stdout",
     "output_type": "stream",
     "text": [
      "printint the variable  value [[1 2 3]\n",
      " [4 5 6]] \n",
      "\n",
      "printing the shape : (2, 3) \n",
      "\n",
      "printing the size: 6 \n",
      "\n",
      "printing  the first row first element : 1 \n",
      "\n",
      "printing the second row third element : 6 \n",
      "\n"
     ]
    }
   ],
   "source": [
    "valarr = np.array([[1,2,3],[4,5,6]]) # create a 2D array\n",
    "print(\"printint the variable  value\",valarr,\"\\n\")\n",
    "print(\"printing the shape :\",valarr.shape,\"\\n\")\n",
    "print(\"printing the size:\",valarr.size,\"\\n\")\n",
    "#print first row first element\n",
    "print(\"printing  the first row first element :\",valarr[0,0],\"\\n\")\n",
    "# index 2nd row 3rd element\n",
    "print(\"printing the second row third element :\",valarr[1,2],\"\\n\")"
   ]
  },
  {
   "cell_type": "code",
   "execution_count": 32,
   "id": "3cadc2a6",
   "metadata": {},
   "outputs": [],
   "source": [
    "newArr = np.array([[1,2,3,4,5],[6,7,8,9,10],[1,2,3,4,5],[11,12,13,14,15],[20,25,30,35,40]])"
   ]
  },
  {
   "cell_type": "code",
   "execution_count": 33,
   "id": "09869ad8",
   "metadata": {},
   "outputs": [
    {
     "name": "stdout",
     "output_type": "stream",
     "text": [
      "printint the variable  value [[ 1  2  3  4  5]\n",
      " [ 6  7  8  9 10]\n",
      " [ 1  2  3  4  5]\n",
      " [11 12 13 14 15]\n",
      " [20 25 30 35 40]] \n",
      "\n",
      "printing the shape : (5, 5) \n",
      "\n",
      "printing the size: 25 \n",
      "\n",
      "printing  the first row first element : 1 \n",
      "\n",
      "printing the second row third element : 8 \n",
      "\n"
     ]
    }
   ],
   "source": [
    "print(\"printint the variable  value\",newArr,\"\\n\")\n",
    "print(\"printing the shape :\",newArr.shape,\"\\n\")\n",
    "print(\"printing the size:\",newArr.size,\"\\n\")\n",
    "#print first row first element\n",
    "print(\"printing  the first row first element :\",newArr[0,0],\"\\n\")\n",
    "# index 2nd row 3rd element\n",
    "print(\"printing the second row third element :\",newArr[1,2],\"\\n\")"
   ]
  },
  {
   "cell_type": "code",
   "execution_count": 34,
   "id": "22ecdad3",
   "metadata": {},
   "outputs": [
    {
     "name": "stdout",
     "output_type": "stream",
     "text": [
      "[[1 2 3]\n",
      " [4 5 6]]\n"
     ]
    },
    {
     "ename": "NameError",
     "evalue": "name 'mylist' is not defined",
     "output_type": "error",
     "traceback": [
      "\u001b[1;31m---------------------------------------------------------------------------\u001b[0m",
      "\u001b[1;31mNameError\u001b[0m                                 Traceback (most recent call last)",
      "\u001b[1;32m~\\AppData\\Local\\Temp/ipykernel_4196/2885412635.py\u001b[0m in \u001b[0;36m<module>\u001b[1;34m\u001b[0m\n\u001b[0;32m      6\u001b[0m \u001b[0mvalarr\u001b[0m \u001b[1;33m=\u001b[0m \u001b[0mnp\u001b[0m\u001b[1;33m.\u001b[0m\u001b[0marray\u001b[0m\u001b[1;33m(\u001b[0m\u001b[1;33m[\u001b[0m\u001b[1;33m[\u001b[0m\u001b[1;36m1\u001b[0m\u001b[1;33m,\u001b[0m\u001b[1;36m2\u001b[0m\u001b[1;33m,\u001b[0m\u001b[1;36m3\u001b[0m\u001b[1;33m]\u001b[0m\u001b[1;33m,\u001b[0m\u001b[1;33m[\u001b[0m\u001b[1;36m4\u001b[0m\u001b[1;33m,\u001b[0m\u001b[1;36m5\u001b[0m\u001b[1;33m,\u001b[0m\u001b[1;36m6\u001b[0m\u001b[1;33m]\u001b[0m\u001b[1;33m]\u001b[0m\u001b[1;33m)\u001b[0m\u001b[1;33m\u001b[0m\u001b[1;33m\u001b[0m\u001b[0m\n\u001b[0;32m      7\u001b[0m \u001b[0mprint\u001b[0m\u001b[1;33m(\u001b[0m\u001b[0mvalarr\u001b[0m\u001b[1;33m)\u001b[0m\u001b[1;33m\u001b[0m\u001b[1;33m\u001b[0m\u001b[0m\n\u001b[1;32m----> 8\u001b[1;33m \u001b[0ma\u001b[0m \u001b[1;33m=\u001b[0m \u001b[0mmylist\u001b[0m\u001b[1;33m\u001b[0m\u001b[1;33m\u001b[0m\u001b[0m\n\u001b[0m",
      "\u001b[1;31mNameError\u001b[0m: name 'mylist' is not defined"
     ]
    }
   ],
   "source": [
    "#negative indexing\n",
    "myList = [1,2,3,4,5,6,7]\n",
    "arr = np.array(myList)\n",
    "# print(arr)\n",
    "\n",
    "valarr = np.array([[1,2,3],[4,5,6]])\n",
    "print(valarr)\n",
    "a = mylist"
   ]
  },
  {
   "cell_type": "code",
   "execution_count": null,
   "id": "37f47ff3",
   "metadata": {},
   "outputs": [],
   "source": [
    "valarr[1,-2]"
   ]
  },
  {
   "cell_type": "code",
   "execution_count": null,
   "id": "f469d534",
   "metadata": {},
   "outputs": [],
   "source": [
    "valarr[1,-1]"
   ]
  },
  {
   "cell_type": "code",
   "execution_count": null,
   "id": "df26b707",
   "metadata": {},
   "outputs": [],
   "source": [
    "# Numpy array slicing\n",
    "mylist = np.array([1,2,3,4,5,6,7,8,9,10])\n",
    "print(mylist)"
   ]
  },
  {
   "cell_type": "code",
   "execution_count": null,
   "id": "2cceec27",
   "metadata": {},
   "outputs": [],
   "source": [
    "mylist[0:5]"
   ]
  },
  {
   "cell_type": "code",
   "execution_count": null,
   "id": "231ac2f0",
   "metadata": {},
   "outputs": [],
   "source": [
    "mylist[3:]"
   ]
  },
  {
   "cell_type": "code",
   "execution_count": null,
   "id": "ffd94a31",
   "metadata": {},
   "outputs": [],
   "source": [
    "mylist[:5]"
   ]
  },
  {
   "cell_type": "code",
   "execution_count": null,
   "id": "dc82e191",
   "metadata": {},
   "outputs": [],
   "source": [
    "mylist[:-1] # print without last element"
   ]
  },
  {
   "cell_type": "code",
   "execution_count": null,
   "id": "2fa3f64d",
   "metadata": {},
   "outputs": [],
   "source": [
    "mylist[-3:-1] # print from 8 to before last element"
   ]
  },
  {
   "cell_type": "code",
   "execution_count": null,
   "id": "0f774a3b",
   "metadata": {},
   "outputs": [],
   "source": [
    "mylist[-3:]"
   ]
  },
  {
   "cell_type": "code",
   "execution_count": null,
   "id": "a2f1d6ac",
   "metadata": {},
   "outputs": [],
   "source": [
    "#step(property name)\n",
    "mylist[::2] # skip 2 values"
   ]
  },
  {
   "cell_type": "code",
   "execution_count": null,
   "id": "f88988e8",
   "metadata": {},
   "outputs": [],
   "source": [
    "mylist[1::3]"
   ]
  },
  {
   "cell_type": "code",
   "execution_count": null,
   "id": "2f8d8942",
   "metadata": {},
   "outputs": [],
   "source": [
    "a[1::4] # a = mylist"
   ]
  },
  {
   "cell_type": "code",
   "execution_count": null,
   "id": "5993de08",
   "metadata": {},
   "outputs": [],
   "source": [
    "mylist[1::4]"
   ]
  },
  {
   "cell_type": "code",
   "execution_count": 3,
   "id": "021b0678",
   "metadata": {},
   "outputs": [],
   "source": [
    "# Slicing 2D array\n",
    "my_list1=[1,2,3,4,5]\n",
    "my_list2=[2,3,4,5,6]\n",
    "my_list3=[9,7,6,8,9]\n",
    "arr = np.array([my_list1,my_list2,my_list3])"
   ]
  },
  {
   "cell_type": "code",
   "execution_count": 5,
   "id": "32756dc6",
   "metadata": {},
   "outputs": [
    {
     "data": {
      "text/plain": [
       "array([[4, 5],\n",
       "       [6, 8]])"
      ]
     },
     "execution_count": 5,
     "metadata": {},
     "output_type": "execute_result"
    }
   ],
   "source": [
    "arr[1:,2:4]# first slicing of row after coma slicing of coloumns"
   ]
  },
  {
   "cell_type": "code",
   "execution_count": 4,
   "id": "9c69ba50",
   "metadata": {},
   "outputs": [
    {
     "data": {
      "text/plain": [
       "array([[2, 3, 4],\n",
       "       [3, 4, 5]])"
      ]
     },
     "execution_count": 4,
     "metadata": {},
     "output_type": "execute_result"
    }
   ],
   "source": [
    "arr[:2,1:4]"
   ]
  },
  {
   "cell_type": "code",
   "execution_count": null,
   "id": "7a447302",
   "metadata": {},
   "outputs": [],
   "source": [
    "#Arange function\n",
    "np.arange(10) # create a array with 10 elements"
   ]
  },
  {
   "cell_type": "code",
   "execution_count": 2,
   "id": "791a9373",
   "metadata": {},
   "outputs": [
    {
     "data": {
      "text/plain": [
       "array([10, 11, 12, 13, 14, 15, 16, 17, 18, 19])"
      ]
     },
     "execution_count": 2,
     "metadata": {},
     "output_type": "execute_result"
    }
   ],
   "source": [
    "np.arange(10,20)"
   ]
  },
  {
   "cell_type": "code",
   "execution_count": null,
   "id": "d624e843",
   "metadata": {},
   "outputs": [],
   "source": [
    "np.arange(5)"
   ]
  },
  {
   "cell_type": "code",
   "execution_count": null,
   "id": "9c9db232",
   "metadata": {},
   "outputs": [],
   "source": [
    "np.arange(10,20,2) # similar to range function"
   ]
  },
  {
   "cell_type": "code",
   "execution_count": null,
   "id": "78b5b593",
   "metadata": {},
   "outputs": [],
   "source": [
    "# Linspace\n",
    "np.linspace(0,100) # create 0 to 100 normal distrubution following array "
   ]
  },
  {
   "cell_type": "code",
   "execution_count": null,
   "id": "9a5d8242",
   "metadata": {},
   "outputs": [],
   "source": [
    "arr=np.array([1,23,4,5,6]) # Let Numpy choose datatype\n",
    "\n",
    "print(arr.dtype) # print data type and storage space"
   ]
  },
  {
   "cell_type": "code",
   "execution_count": 6,
   "id": "020b85b8",
   "metadata": {},
   "outputs": [
    {
     "name": "stdout",
     "output_type": "stream",
     "text": [
      "<U9\n"
     ]
    }
   ],
   "source": [
    "arr=np.array([\"apple\",\"banana\",\"orange\",\"blueberry\"])\n",
    "print(arr.dtype)"
   ]
  },
  {
   "cell_type": "code",
   "execution_count": 35,
   "id": "33923377",
   "metadata": {},
   "outputs": [
    {
     "name": "stdout",
     "output_type": "stream",
     "text": [
      "[1 2 3 4 5]\n",
      "int64\n"
     ]
    }
   ],
   "source": [
    "arr = np.array([1,2,3,4,5],dtype=np.int64)\n",
    "print(arr)\n",
    "print(arr.dtype)"
   ]
  },
  {
   "cell_type": "code",
   "execution_count": 36,
   "id": "f49ed038",
   "metadata": {},
   "outputs": [
    {
     "name": "stdout",
     "output_type": "stream",
     "text": [
      "[b'1' b'2' b'3' b'4' b'5']\n",
      "|S1\n"
     ]
    }
   ],
   "source": [
    "arr = np.array([1,2,3,4,5],dtype='S')\n",
    "print(arr)\n",
    "print(arr.dtype)"
   ]
  },
  {
   "cell_type": "code",
   "execution_count": null,
   "id": "2214f3a3",
   "metadata": {},
   "outputs": [],
   "source": [
    "# Array math\n",
    "x = np.array()"
   ]
  }
 ],
 "metadata": {
  "kernelspec": {
   "display_name": "Python 3 (ipykernel)",
   "language": "python",
   "name": "python3"
  },
  "language_info": {
   "codemirror_mode": {
    "name": "ipython",
    "version": 3
   },
   "file_extension": ".py",
   "mimetype": "text/x-python",
   "name": "python",
   "nbconvert_exporter": "python",
   "pygments_lexer": "ipython3",
   "version": "3.9.7"
  }
 },
 "nbformat": 4,
 "nbformat_minor": 5
}
