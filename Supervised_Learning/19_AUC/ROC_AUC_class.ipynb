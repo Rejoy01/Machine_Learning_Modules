{
 "cells": [
  {
   "cell_type": "code",
   "execution_count": 32,
   "metadata": {},
   "outputs": [],
   "source": [
    "# Loading Libraries\n",
    "import numpy as np\n",
    "\n",
    "import pandas as pd\n",
    "from matplotlib import pyplot as plt\n",
    "%matplotlib inline\n",
    "from sklearn.model_selection import train_test_split\n",
    "from sklearn.linear_model import LogisticRegression\n",
    "from sklearn.tree import DecisionTreeClassifier\n",
    "from sklearn.ensemble import RandomForestClassifier\n",
    "from sklearn.ensemble import AdaBoostClassifier\n",
    "from sklearn.ensemble import GradientBoostingClassifier\n",
    "from sklearn.svm import SVC\n",
    "from sklearn.metrics import accuracy_score\n",
    "from sklearn.neighbors import KNeighborsClassifier"
   ]
  },
  {
   "cell_type": "code",
   "execution_count": 4,
   "metadata": {},
   "outputs": [],
   "source": [
    "from random import random\n",
    "\n",
    "\n",
    "data = pd.read_csv(r\"D:\\AI\\libraries of AI\\Supervised_Learning\\9_Logistic_Regression_multiclass\\breast_cancer_data.csv\")\n",
    "data.head()\n",
    "data.drop(['id','Unnamed: 32'],axis=1,inplace=True)\n",
    "# map function for mapping benign into 0 and malignant into 1\n",
    "data['diagnosis'] = data['diagnosis'].map({'B':0,'M':1})\n",
    "\n",
    "X=data.drop(['diagnosis'],axis=1)\n",
    "y=data['diagnosis']\n",
    "\n",
    "X_train, X_test, y_train, y_test = train_test_split(X, y, test_size=0.33,random_state=42)"
   ]
  },
  {
   "cell_type": "code",
   "execution_count": 8,
   "metadata": {},
   "outputs": [],
   "source": [
    "from sklearn.metrics import roc_curve\n",
    "from sklearn.metrics import roc_auc_score"
   ]
  },
  {
   "cell_type": "code",
   "execution_count": 14,
   "metadata": {},
   "outputs": [
    {
     "name": "stdout",
     "output_type": "stream",
     "text": [
      "RF training ROC - AUC Accuarcy is : 1.0\n",
      "RF test ROC - AUC Accuarcy is : 0.9949426421610953\n"
     ]
    }
   ],
   "source": [
    "# RandomForestClassifier\n",
    "rf_model = RandomForestClassifier()\n",
    "rf_model.fit(X_train,y_train)\n",
    "\n",
    "y_train_pred = rf_model.predict_proba(X_train)\n",
    "\n",
    "print(f\"RF training ROC - AUC Accuarcy is : {roc_auc_score(y_train,y_train_pred[:,1])}\")\n",
    "y_test_prob = rf_model.predict_proba(X_test)\n",
    "print(f\"RF test ROC - AUC Accuarcy is : {roc_auc_score(y_test,y_test_prob[:,1])}\")\n",
    "\n",
    "\n",
    "\n"
   ]
  },
  {
   "cell_type": "code",
   "execution_count": 22,
   "metadata": {},
   "outputs": [
    {
     "name": "stdout",
     "output_type": "stream",
     "text": [
      "Logistic Regression training ROC - AUC Accuarcy is : 0.9930450029222677\n",
      "Logistic Regression test ROC - AUC Accuarcy is : 0.9969162452201801\n"
     ]
    },
    {
     "name": "stderr",
     "output_type": "stream",
     "text": [
      "c:\\Users\\User\\anaconda3\\lib\\site-packages\\sklearn\\linear_model\\_logistic.py:444: ConvergenceWarning: lbfgs failed to converge (status=1):\n",
      "STOP: TOTAL NO. of ITERATIONS REACHED LIMIT.\n",
      "\n",
      "Increase the number of iterations (max_iter) or scale the data as shown in:\n",
      "    https://scikit-learn.org/stable/modules/preprocessing.html\n",
      "Please also refer to the documentation for alternative solver options:\n",
      "    https://scikit-learn.org/stable/modules/linear_model.html#logistic-regression\n",
      "  n_iter_i = _check_optimize_result(\n"
     ]
    }
   ],
   "source": [
    "# Logistic Regression\n",
    "Log_model = LogisticRegression()\n",
    "Log_model.fit(X_train,y_train)\n",
    "\n",
    "y_train_pred = Log_model.predict_proba(X_train)\n",
    "\n",
    "print(f\"Logistic Regression training ROC - AUC Accuarcy is : {roc_auc_score(y_train,y_train_pred[:,1])}\")\n",
    "y_test_prob = Log_model.predict_proba(X_test)\n",
    "print(f\"Logistic Regression test ROC - AUC Accuarcy is : {roc_auc_score(y_test,y_test_prob[:,1])}\")"
   ]
  },
  {
   "cell_type": "code",
   "execution_count": 17,
   "metadata": {},
   "outputs": [
    {
     "name": "stdout",
     "output_type": "stream",
     "text": [
      "AdaBoostClassifier training ROC - AUC Accuarcy is : 1.0\n",
      "AdaBoostClassifier Regression test ROC - AUC Accuarcy is : 0.9861847785864069\n"
     ]
    }
   ],
   "source": [
    "# AdaBoostClassifier\n",
    "ad_model = AdaBoostClassifier()\n",
    "ad_model.fit(X_train,y_train)\n",
    "\n",
    "y_train_pred = ad_model.predict_proba(X_train)\n",
    "\n",
    "print(f\"AdaBoostClassifier training ROC - AUC Accuarcy is : {roc_auc_score(y_train,y_train_pred[:,1])}\")\n",
    "y_test_prob = ad_model.predict_proba(X_test)\n",
    "print(f\"AdaBoostClassifier Regression test ROC - AUC Accuarcy is : {roc_auc_score(y_test,y_test_prob[:,1])}\")"
   ]
  },
  {
   "cell_type": "code",
   "execution_count": 18,
   "metadata": {},
   "outputs": [
    {
     "name": "stdout",
     "output_type": "stream",
     "text": [
      "AdaBoostClassifier training ROC - AUC Accuarcy is : 1.0\n",
      "AdaBoostClassifier Regression test ROC - AUC Accuarcy is : 0.9861847785864069\n"
     ]
    }
   ],
   "source": [
    "# KNN\n",
    "knn_model = AdaBoostClassifier()\n",
    "knn_model.fit(X_train,y_train)\n",
    "\n",
    "y_train_pred = knn_model.predict_proba(X_train)\n",
    "\n",
    "print(f\"AdaBoostClassifier training ROC - AUC Accuarcy is : {roc_auc_score(y_train,y_train_pred[:,1])}\")\n",
    "y_test_prob = knn_model.predict_proba(X_test)\n",
    "print(f\"AdaBoostClassifier Regression test ROC - AUC Accuarcy is : {roc_auc_score(y_test,y_test_prob[:,1])}\")"
   ]
  },
  {
   "cell_type": "code",
   "execution_count": 21,
   "metadata": {},
   "outputs": [
    {
     "data": {
      "text/plain": [
       "array([[0.57086405, 0.42913595],\n",
       "       [0.17523828, 0.82476172],\n",
       "       [0.33177776, 0.66822224],\n",
       "       [0.63066614, 0.36933386],\n",
       "       [0.79360023, 0.20639977],\n",
       "       [0.15968511, 0.84031489],\n",
       "       [0.18326707, 0.81673293],\n",
       "       [0.53798196, 0.46201804],\n",
       "       [0.37846039, 0.62153961],\n",
       "       [0.69556957, 0.30443043],\n",
       "       [0.53824782, 0.46175218],\n",
       "       [0.40854399, 0.59145601],\n",
       "       [0.57153301, 0.42846699],\n",
       "       [0.39899589, 0.60100411],\n",
       "       [0.68596628, 0.31403372],\n",
       "       [0.20604948, 0.79395052],\n",
       "       [0.72100919, 0.27899081],\n",
       "       [0.68635425, 0.31364575],\n",
       "       [0.72661023, 0.27338977],\n",
       "       [0.19365909, 0.80634091],\n",
       "       [0.63327064, 0.36672936],\n",
       "       [0.59222466, 0.40777534],\n",
       "       [0.15840301, 0.84159699],\n",
       "       [0.58979953, 0.41020047],\n",
       "       [0.61542801, 0.38457199],\n",
       "       [0.68650384, 0.31349616],\n",
       "       [0.71715362, 0.28284638],\n",
       "       [0.62695145, 0.37304855],\n",
       "       [0.61962364, 0.38037636],\n",
       "       [0.17237018, 0.82762982],\n",
       "       [0.64586293, 0.35413707],\n",
       "       [0.71266969, 0.28733031],\n",
       "       [0.60244779, 0.39755221],\n",
       "       [0.68276302, 0.31723698],\n",
       "       [0.65517136, 0.34482864],\n",
       "       [0.57578832, 0.42421168],\n",
       "       [0.42590669, 0.57409331],\n",
       "       [0.71949039, 0.28050961],\n",
       "       [0.18847437, 0.81152563],\n",
       "       [0.59082962, 0.40917038],\n",
       "       [0.68826916, 0.31173084],\n",
       "       [0.32019629, 0.67980371],\n",
       "       [0.69953038, 0.30046962],\n",
       "       [0.62834278, 0.37165722],\n",
       "       [0.56034558, 0.43965442],\n",
       "       [0.51348694, 0.48651306],\n",
       "       [0.72972069, 0.27027931],\n",
       "       [0.60146516, 0.39853484],\n",
       "       [0.52824952, 0.47175048],\n",
       "       [0.76233239, 0.23766761],\n",
       "       [0.16720528, 0.83279472],\n",
       "       [0.16469363, 0.83530637],\n",
       "       [0.52581742, 0.47418258],\n",
       "       [0.68181669, 0.31818331],\n",
       "       [0.76273749, 0.23726251],\n",
       "       [0.61119514, 0.38880486],\n",
       "       [0.74864589, 0.25135411],\n",
       "       [0.17534885, 0.82465115],\n",
       "       [0.29530107, 0.70469893],\n",
       "       [0.73067624, 0.26932376],\n",
       "       [0.61159564, 0.38840436],\n",
       "       [0.16496121, 0.83503879],\n",
       "       [0.19009405, 0.80990595],\n",
       "       [0.57135271, 0.42864729],\n",
       "       [0.62445291, 0.37554709],\n",
       "       [0.58491376, 0.41508624],\n",
       "       [0.1800612 , 0.8199388 ],\n",
       "       [0.16514408, 0.83485592],\n",
       "       [0.59124802, 0.40875198],\n",
       "       [0.59510738, 0.40489262],\n",
       "       [0.19582354, 0.80417646],\n",
       "       [0.21194308, 0.78805692],\n",
       "       [0.62925184, 0.37074816],\n",
       "       [0.25682015, 0.74317985],\n",
       "       [0.5987659 , 0.4012341 ],\n",
       "       [0.67035847, 0.32964153],\n",
       "       [0.56506435, 0.43493565],\n",
       "       [0.44816008, 0.55183992],\n",
       "       [0.76176167, 0.23823833],\n",
       "       [0.63251889, 0.36748111],\n",
       "       [0.36460108, 0.63539892],\n",
       "       [0.71519023, 0.28480977],\n",
       "       [0.51252093, 0.48747907],\n",
       "       [0.20294643, 0.79705357],\n",
       "       [0.40529293, 0.59470707],\n",
       "       [0.23427376, 0.76572624],\n",
       "       [0.25593709, 0.74406291],\n",
       "       [0.21138455, 0.78861545],\n",
       "       [0.62476994, 0.37523006],\n",
       "       [0.71611334, 0.28388666],\n",
       "       [0.64203215, 0.35796785],\n",
       "       [0.48124315, 0.51875685],\n",
       "       [0.55657896, 0.44342104],\n",
       "       [0.58692879, 0.41307121],\n",
       "       [0.52126139, 0.47873861],\n",
       "       [0.67450643, 0.32549357],\n",
       "       [0.18743863, 0.81256137],\n",
       "       [0.18628347, 0.81371653],\n",
       "       [0.71782034, 0.28217966],\n",
       "       [0.23105734, 0.76894266],\n",
       "       [0.34407764, 0.65592236],\n",
       "       [0.72987048, 0.27012952],\n",
       "       [0.27120175, 0.72879825],\n",
       "       [0.20710516, 0.79289484],\n",
       "       [0.61115463, 0.38884537],\n",
       "       [0.64143242, 0.35856758],\n",
       "       [0.6134469 , 0.3865531 ],\n",
       "       [0.19365909, 0.80634091],\n",
       "       [0.42036512, 0.57963488],\n",
       "       [0.53634553, 0.46365447],\n",
       "       [0.31588381, 0.68411619],\n",
       "       [0.72880487, 0.27119513],\n",
       "       [0.55372047, 0.44627953],\n",
       "       [0.15340782, 0.84659218],\n",
       "       [0.35736469, 0.64263531],\n",
       "       [0.153126  , 0.846874  ],\n",
       "       [0.7678075 , 0.2321925 ],\n",
       "       [0.50595931, 0.49404069],\n",
       "       [0.70432854, 0.29567146],\n",
       "       [0.20707969, 0.79292031],\n",
       "       [0.47511686, 0.52488314],\n",
       "       [0.71169824, 0.28830176],\n",
       "       [0.61718772, 0.38281228],\n",
       "       [0.22197004, 0.77802996],\n",
       "       [0.57164366, 0.42835634],\n",
       "       [0.19501135, 0.80498865],\n",
       "       [0.29096174, 0.70903826],\n",
       "       [0.65971216, 0.34028784],\n",
       "       [0.61657094, 0.38342906],\n",
       "       [0.17817085, 0.82182915],\n",
       "       [0.28113957, 0.71886043],\n",
       "       [0.21745173, 0.78254827],\n",
       "       [0.56206242, 0.43793758],\n",
       "       [0.56802236, 0.43197764],\n",
       "       [0.64792697, 0.35207303],\n",
       "       [0.33203702, 0.66796298],\n",
       "       [0.49466621, 0.50533379],\n",
       "       [0.59369475, 0.40630525],\n",
       "       [0.60345044, 0.39654956],\n",
       "       [0.19721299, 0.80278701],\n",
       "       [0.61477637, 0.38522363],\n",
       "       [0.15849896, 0.84150104],\n",
       "       [0.75550229, 0.24449771],\n",
       "       [0.74905091, 0.25094909],\n",
       "       [0.24074398, 0.75925602],\n",
       "       [0.67486832, 0.32513168],\n",
       "       [0.19265029, 0.80734971],\n",
       "       [0.19336838, 0.80663162],\n",
       "       [0.43483113, 0.56516887],\n",
       "       [0.70579492, 0.29420508],\n",
       "       [0.37787097, 0.62212903],\n",
       "       [0.73641054, 0.26358946],\n",
       "       [0.65189197, 0.34810803],\n",
       "       [0.6316568 , 0.3683432 ],\n",
       "       [0.57918474, 0.42081526],\n",
       "       [0.177273  , 0.822727  ],\n",
       "       [0.34908306, 0.65091694],\n",
       "       [0.57593518, 0.42406482],\n",
       "       [0.5908829 , 0.4091171 ],\n",
       "       [0.72553929, 0.27446071],\n",
       "       [0.62078625, 0.37921375],\n",
       "       [0.67615995, 0.32384005],\n",
       "       [0.68530301, 0.31469699],\n",
       "       [0.64895102, 0.35104898],\n",
       "       [0.47698471, 0.52301529],\n",
       "       [0.73841563, 0.26158437],\n",
       "       [0.71287286, 0.28712714],\n",
       "       [0.55369267, 0.44630733],\n",
       "       [0.63182938, 0.36817062],\n",
       "       [0.35417321, 0.64582679],\n",
       "       [0.69545135, 0.30454865],\n",
       "       [0.60748041, 0.39251959],\n",
       "       [0.73590025, 0.26409975],\n",
       "       [0.59923186, 0.40076814],\n",
       "       [0.71935078, 0.28064922],\n",
       "       [0.59148756, 0.40851244],\n",
       "       [0.45682456, 0.54317544],\n",
       "       [0.69478062, 0.30521938],\n",
       "       [0.60509546, 0.39490454],\n",
       "       [0.70103488, 0.29896512],\n",
       "       [0.60875429, 0.39124571],\n",
       "       [0.54484995, 0.45515005],\n",
       "       [0.72595265, 0.27404735],\n",
       "       [0.39922665, 0.60077335],\n",
       "       [0.22595211, 0.77404789],\n",
       "       [0.37760987, 0.62239013],\n",
       "       [0.55287279, 0.44712721],\n",
       "       [0.64946129, 0.35053871]])"
      ]
     },
     "execution_count": 21,
     "metadata": {},
     "output_type": "execute_result"
    }
   ],
   "source": [
    "y_test_prob \n"
   ]
  },
  {
   "cell_type": "code",
   "execution_count": 25,
   "metadata": {},
   "outputs": [],
   "source": [
    "pred = []\n",
    "for model in [rf_model,Log_model,ad_model,knn_model]:\n",
    "    pred.append(pd.Series(model.predict_proba(X_test)[:,1]))\n",
    "\n",
    "final_pred = pd.concat(pred,axis=1).mean(axis=1)"
   ]
  },
  {
   "cell_type": "code",
   "execution_count": 26,
   "metadata": {},
   "outputs": [
    {
     "data": {
      "text/plain": [
       "0      0.359100\n",
       "1      0.868571\n",
       "2      0.750288\n",
       "3      0.279297\n",
       "4      0.155305\n",
       "         ...   \n",
       "183    0.700497\n",
       "184    0.830536\n",
       "185    0.708390\n",
       "186    0.510415\n",
       "187    0.272129\n",
       "Length: 188, dtype: float64"
      ]
     },
     "execution_count": 26,
     "metadata": {},
     "output_type": "execute_result"
    }
   ],
   "source": [
    "final_pred"
   ]
  },
  {
   "cell_type": "code",
   "execution_count": 27,
   "metadata": {},
   "outputs": [],
   "source": [
    "# calculate the ROC curve\n",
    "fpr,tpr,thresholds = roc_curve(y_test,final_pred)"
   ]
  },
  {
   "cell_type": "code",
   "execution_count": 34,
   "metadata": {},
   "outputs": [],
   "source": [
    "accuracy_ls = []\n",
    "for thres in thresholds:\n",
    "    y_pred = np.where(final_pred>thres,1,0)\n",
    "    accuracy_ls.append(accuracy_score(y_test,y_pred))"
   ]
  },
  {
   "cell_type": "code",
   "execution_count": 35,
   "metadata": {},
   "outputs": [
    {
     "data": {
      "text/plain": [
       "[0.6436170212765957,\n",
       " 0.6436170212765957,\n",
       " 0.973404255319149,\n",
       " 0.9787234042553191,\n",
       " 0.9787234042553191,\n",
       " 0.9680851063829787,\n",
       " 0.9627659574468085,\n",
       " 0.8351063829787234,\n",
       " 0.8297872340425532,\n",
       " 0.3617021276595745]"
      ]
     },
     "execution_count": 35,
     "metadata": {},
     "output_type": "execute_result"
    }
   ],
   "source": [
    "accuracy_ls"
   ]
  },
  {
   "cell_type": "code",
   "execution_count": 33,
   "metadata": {},
   "outputs": [
    {
     "data": {
      "text/plain": [
       "array([1.8851555 , 0.8851555 , 0.5947437 , 0.58703713, 0.5391617 ,\n",
       "       0.49040104, 0.47566661, 0.32389644, 0.32216887, 0.15530546])"
      ]
     },
     "execution_count": 33,
     "metadata": {},
     "output_type": "execute_result"
    }
   ],
   "source": [
    "thresholds"
   ]
  },
  {
   "cell_type": "code",
   "execution_count": 43,
   "metadata": {},
   "outputs": [],
   "source": [
    "from sqlalchemy import asc\n",
    "\n",
    "\n",
    "acc_list = pd.concat([pd.Series(thresholds),pd.Series(accuracy_ls)],axis=1)\n",
    "acc_list.columns = ['thresholds', 'accuracy']\n",
    "acc_list.sort_values(by = 'accuracy', ascending = False,inplace=True)"
   ]
  },
  {
   "cell_type": "code",
   "execution_count": 44,
   "metadata": {},
   "outputs": [
    {
     "data": {
      "text/html": [
       "<div>\n",
       "<style scoped>\n",
       "    .dataframe tbody tr th:only-of-type {\n",
       "        vertical-align: middle;\n",
       "    }\n",
       "\n",
       "    .dataframe tbody tr th {\n",
       "        vertical-align: top;\n",
       "    }\n",
       "\n",
       "    .dataframe thead th {\n",
       "        text-align: right;\n",
       "    }\n",
       "</style>\n",
       "<table border=\"1\" class=\"dataframe\">\n",
       "  <thead>\n",
       "    <tr style=\"text-align: right;\">\n",
       "      <th></th>\n",
       "      <th>thresholds</th>\n",
       "      <th>accuracy</th>\n",
       "    </tr>\n",
       "  </thead>\n",
       "  <tbody>\n",
       "    <tr>\n",
       "      <th>3</th>\n",
       "      <td>0.587037</td>\n",
       "      <td>0.978723</td>\n",
       "    </tr>\n",
       "    <tr>\n",
       "      <th>4</th>\n",
       "      <td>0.539162</td>\n",
       "      <td>0.978723</td>\n",
       "    </tr>\n",
       "    <tr>\n",
       "      <th>2</th>\n",
       "      <td>0.594744</td>\n",
       "      <td>0.973404</td>\n",
       "    </tr>\n",
       "    <tr>\n",
       "      <th>5</th>\n",
       "      <td>0.490401</td>\n",
       "      <td>0.968085</td>\n",
       "    </tr>\n",
       "    <tr>\n",
       "      <th>6</th>\n",
       "      <td>0.475667</td>\n",
       "      <td>0.962766</td>\n",
       "    </tr>\n",
       "    <tr>\n",
       "      <th>7</th>\n",
       "      <td>0.323896</td>\n",
       "      <td>0.835106</td>\n",
       "    </tr>\n",
       "    <tr>\n",
       "      <th>8</th>\n",
       "      <td>0.322169</td>\n",
       "      <td>0.829787</td>\n",
       "    </tr>\n",
       "    <tr>\n",
       "      <th>0</th>\n",
       "      <td>1.885156</td>\n",
       "      <td>0.643617</td>\n",
       "    </tr>\n",
       "    <tr>\n",
       "      <th>1</th>\n",
       "      <td>0.885156</td>\n",
       "      <td>0.643617</td>\n",
       "    </tr>\n",
       "    <tr>\n",
       "      <th>9</th>\n",
       "      <td>0.155305</td>\n",
       "      <td>0.361702</td>\n",
       "    </tr>\n",
       "  </tbody>\n",
       "</table>\n",
       "</div>"
      ],
      "text/plain": [
       "   thresholds  accuracy\n",
       "3    0.587037  0.978723\n",
       "4    0.539162  0.978723\n",
       "2    0.594744  0.973404\n",
       "5    0.490401  0.968085\n",
       "6    0.475667  0.962766\n",
       "7    0.323896  0.835106\n",
       "8    0.322169  0.829787\n",
       "0    1.885156  0.643617\n",
       "1    0.885156  0.643617\n",
       "9    0.155305  0.361702"
      ]
     },
     "execution_count": 44,
     "metadata": {},
     "output_type": "execute_result"
    }
   ],
   "source": [
    "acc_list"
   ]
  },
  {
   "cell_type": "code",
   "execution_count": null,
   "metadata": {},
   "outputs": [],
   "source": []
  }
 ],
 "metadata": {
  "kernelspec": {
   "display_name": "Python 3.9.7 ('base')",
   "language": "python",
   "name": "python3"
  },
  "language_info": {
   "codemirror_mode": {
    "name": "ipython",
    "version": 3
   },
   "file_extension": ".py",
   "mimetype": "text/x-python",
   "name": "python",
   "nbconvert_exporter": "python",
   "pygments_lexer": "ipython3",
   "version": "3.9.7"
  },
  "orig_nbformat": 4,
  "vscode": {
   "interpreter": {
    "hash": "f08154012ddadd8e950e6e9e035c7a7b32c136e7647e9b7c77e02eb723a8bedb"
   }
  }
 },
 "nbformat": 4,
 "nbformat_minor": 2
}
