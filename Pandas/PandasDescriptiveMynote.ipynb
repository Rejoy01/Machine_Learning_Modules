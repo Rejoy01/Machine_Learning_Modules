{
 "cells": [
  {
   "cell_type": "code",
   "execution_count": 1,
   "id": "f9a1d33f",
   "metadata": {},
   "outputs": [],
   "source": [
    "# Usecases\n",
    "# Total number of customers?\n",
    "# Most visited branch?\n",
    "# City vs customer analysis?\n",
    "# Customer ratio based on customer type?\n",
    "# Most sold product line? general analysis\n",
    "# Costiest product in the shop?\n",
    "# Total gross income?\n",
    "# Total gross income per branch?\n",
    "# Payment type analysis?\n",
    "# rush hours?\n",
    "# Total Margin?\n",
    "# Total % of margin?\n",
    "# convert the gross income into rupees for every invoice ID?"
   ]
  },
  {
   "cell_type": "code",
   "execution_count": 2,
   "id": "82f5077c",
   "metadata": {},
   "outputs": [],
   "source": [
    "import pandas as pd"
   ]
  },
  {
   "cell_type": "code",
   "execution_count": 3,
   "id": "b8b7a841",
   "metadata": {},
   "outputs": [],
   "source": [
    "data = pd.read_csv(\"data/supermarket_sales.csv\")"
   ]
  },
  {
   "cell_type": "code",
   "execution_count": 4,
   "id": "e0eef0d1",
   "metadata": {},
   "outputs": [
    {
     "data": {
      "text/html": [
       "<div>\n",
       "<style scoped>\n",
       "    .dataframe tbody tr th:only-of-type {\n",
       "        vertical-align: middle;\n",
       "    }\n",
       "\n",
       "    .dataframe tbody tr th {\n",
       "        vertical-align: top;\n",
       "    }\n",
       "\n",
       "    .dataframe thead th {\n",
       "        text-align: right;\n",
       "    }\n",
       "</style>\n",
       "<table border=\"1\" class=\"dataframe\">\n",
       "  <thead>\n",
       "    <tr style=\"text-align: right;\">\n",
       "      <th></th>\n",
       "      <th>Invoice ID</th>\n",
       "      <th>Branch</th>\n",
       "      <th>City</th>\n",
       "      <th>Customer type</th>\n",
       "      <th>Gender</th>\n",
       "      <th>Product line</th>\n",
       "      <th>Unit price</th>\n",
       "      <th>Quantity</th>\n",
       "      <th>Tax 5%</th>\n",
       "      <th>Total</th>\n",
       "      <th>Date</th>\n",
       "      <th>Time</th>\n",
       "      <th>Payment</th>\n",
       "      <th>cogs</th>\n",
       "      <th>gross margin percentage</th>\n",
       "      <th>gross income</th>\n",
       "      <th>Rating</th>\n",
       "    </tr>\n",
       "  </thead>\n",
       "  <tbody>\n",
       "    <tr>\n",
       "      <th>0</th>\n",
       "      <td>750-67-8428</td>\n",
       "      <td>A</td>\n",
       "      <td>Yangon</td>\n",
       "      <td>Member</td>\n",
       "      <td>Female</td>\n",
       "      <td>Health and beauty</td>\n",
       "      <td>74.69</td>\n",
       "      <td>7</td>\n",
       "      <td>26.1415</td>\n",
       "      <td>548.9715</td>\n",
       "      <td>01-05-2019</td>\n",
       "      <td>13:08</td>\n",
       "      <td>Ewallet</td>\n",
       "      <td>522.83</td>\n",
       "      <td>4.761905</td>\n",
       "      <td>26.1415</td>\n",
       "      <td>9.1</td>\n",
       "    </tr>\n",
       "    <tr>\n",
       "      <th>1</th>\n",
       "      <td>226-31-3081</td>\n",
       "      <td>C</td>\n",
       "      <td>Naypyitaw</td>\n",
       "      <td>Normal</td>\n",
       "      <td>Female</td>\n",
       "      <td>Electronic accessories</td>\n",
       "      <td>15.28</td>\n",
       "      <td>5</td>\n",
       "      <td>3.8200</td>\n",
       "      <td>80.22</td>\n",
       "      <td>03-08-2019</td>\n",
       "      <td>10:29</td>\n",
       "      <td>Cash</td>\n",
       "      <td>76.40</td>\n",
       "      <td>4.761905</td>\n",
       "      <td>3.8200</td>\n",
       "      <td>9.6</td>\n",
       "    </tr>\n",
       "    <tr>\n",
       "      <th>2</th>\n",
       "      <td>631-41-3108</td>\n",
       "      <td>A</td>\n",
       "      <td>Yangon</td>\n",
       "      <td>Normal</td>\n",
       "      <td>Male</td>\n",
       "      <td>Home and lifestyle</td>\n",
       "      <td>46.33</td>\n",
       "      <td>7</td>\n",
       "      <td>16.2155</td>\n",
       "      <td>340.5255</td>\n",
       "      <td>03-03-2019</td>\n",
       "      <td>13:23</td>\n",
       "      <td>Credit card</td>\n",
       "      <td>324.31</td>\n",
       "      <td>4.761905</td>\n",
       "      <td>16.2155</td>\n",
       "      <td>7.4</td>\n",
       "    </tr>\n",
       "    <tr>\n",
       "      <th>3</th>\n",
       "      <td>123-19-1176</td>\n",
       "      <td>A</td>\n",
       "      <td>Yangon</td>\n",
       "      <td>Member</td>\n",
       "      <td>Male</td>\n",
       "      <td>Health and beauty</td>\n",
       "      <td>58.22</td>\n",
       "      <td>8</td>\n",
       "      <td>23.2880</td>\n",
       "      <td>489.048</td>\n",
       "      <td>1/27/2019</td>\n",
       "      <td>20:33</td>\n",
       "      <td>Ewallet</td>\n",
       "      <td>465.76</td>\n",
       "      <td>4.761905</td>\n",
       "      <td>23.2880</td>\n",
       "      <td>8.4</td>\n",
       "    </tr>\n",
       "    <tr>\n",
       "      <th>4</th>\n",
       "      <td>373-73-7910</td>\n",
       "      <td>A</td>\n",
       "      <td>Yangon</td>\n",
       "      <td>Normal</td>\n",
       "      <td>Male</td>\n",
       "      <td>Sports and travel</td>\n",
       "      <td>86.31</td>\n",
       "      <td>7</td>\n",
       "      <td>30.2085</td>\n",
       "      <td>634.3785</td>\n",
       "      <td>02-08-2019</td>\n",
       "      <td>10:37</td>\n",
       "      <td>Ewallet</td>\n",
       "      <td>604.17</td>\n",
       "      <td>4.761905</td>\n",
       "      <td>30.2085</td>\n",
       "      <td>5.3</td>\n",
       "    </tr>\n",
       "    <tr>\n",
       "      <th>...</th>\n",
       "      <td>...</td>\n",
       "      <td>...</td>\n",
       "      <td>...</td>\n",
       "      <td>...</td>\n",
       "      <td>...</td>\n",
       "      <td>...</td>\n",
       "      <td>...</td>\n",
       "      <td>...</td>\n",
       "      <td>...</td>\n",
       "      <td>...</td>\n",
       "      <td>...</td>\n",
       "      <td>...</td>\n",
       "      <td>...</td>\n",
       "      <td>...</td>\n",
       "      <td>...</td>\n",
       "      <td>...</td>\n",
       "      <td>...</td>\n",
       "    </tr>\n",
       "    <tr>\n",
       "      <th>995</th>\n",
       "      <td>233-67-5758</td>\n",
       "      <td>C</td>\n",
       "      <td>Naypyitaw</td>\n",
       "      <td>Normal</td>\n",
       "      <td>Male</td>\n",
       "      <td>Health and beauty</td>\n",
       "      <td>40.35</td>\n",
       "      <td>1</td>\n",
       "      <td>2.0175</td>\n",
       "      <td>42.3675</td>\n",
       "      <td>1/29/2019</td>\n",
       "      <td>13:46</td>\n",
       "      <td>Ewallet</td>\n",
       "      <td>40.35</td>\n",
       "      <td>4.761905</td>\n",
       "      <td>2.0175</td>\n",
       "      <td>6.2</td>\n",
       "    </tr>\n",
       "    <tr>\n",
       "      <th>996</th>\n",
       "      <td>303-96-2227</td>\n",
       "      <td>B</td>\n",
       "      <td>Mandalay</td>\n",
       "      <td>Normal</td>\n",
       "      <td>Female</td>\n",
       "      <td>Home and lifestyle</td>\n",
       "      <td>97.38</td>\n",
       "      <td>10</td>\n",
       "      <td>48.6900</td>\n",
       "      <td>1022.49</td>\n",
       "      <td>03-02-2019</td>\n",
       "      <td>17:16</td>\n",
       "      <td>Ewallet</td>\n",
       "      <td>973.80</td>\n",
       "      <td>4.761905</td>\n",
       "      <td>48.6900</td>\n",
       "      <td>4.4</td>\n",
       "    </tr>\n",
       "    <tr>\n",
       "      <th>997</th>\n",
       "      <td>727-02-1313</td>\n",
       "      <td>A</td>\n",
       "      <td>Yangon</td>\n",
       "      <td>Member</td>\n",
       "      <td>Male</td>\n",
       "      <td>Food and beverages</td>\n",
       "      <td>31.84</td>\n",
       "      <td>1</td>\n",
       "      <td>1.5920</td>\n",
       "      <td>33.432</td>\n",
       "      <td>02-09-2019</td>\n",
       "      <td>13:22</td>\n",
       "      <td>Cash</td>\n",
       "      <td>31.84</td>\n",
       "      <td>4.761905</td>\n",
       "      <td>1.5920</td>\n",
       "      <td>7.7</td>\n",
       "    </tr>\n",
       "    <tr>\n",
       "      <th>998</th>\n",
       "      <td>347-56-2442</td>\n",
       "      <td>A</td>\n",
       "      <td>Yangon</td>\n",
       "      <td>Normal</td>\n",
       "      <td>Male</td>\n",
       "      <td>Home and lifestyle</td>\n",
       "      <td>65.82</td>\n",
       "      <td>1</td>\n",
       "      <td>3.2910</td>\n",
       "      <td>69.111</td>\n",
       "      <td>2/22/2019</td>\n",
       "      <td>15:33</td>\n",
       "      <td>Cash</td>\n",
       "      <td>65.82</td>\n",
       "      <td>4.761905</td>\n",
       "      <td>3.2910</td>\n",
       "      <td>4.1</td>\n",
       "    </tr>\n",
       "    <tr>\n",
       "      <th>999</th>\n",
       "      <td>849-09-3807</td>\n",
       "      <td>A</td>\n",
       "      <td>Yangon</td>\n",
       "      <td>Member</td>\n",
       "      <td>Female</td>\n",
       "      <td>Fashion accessories</td>\n",
       "      <td>88.34</td>\n",
       "      <td>7</td>\n",
       "      <td>30.9190</td>\n",
       "      <td>649.299</td>\n",
       "      <td>2/18/2019</td>\n",
       "      <td>13:28</td>\n",
       "      <td>Cash</td>\n",
       "      <td>618.38</td>\n",
       "      <td>4.761905</td>\n",
       "      <td>30.9190</td>\n",
       "      <td>6.6</td>\n",
       "    </tr>\n",
       "  </tbody>\n",
       "</table>\n",
       "<p>1000 rows × 17 columns</p>\n",
       "</div>"
      ],
      "text/plain": [
       "      Invoice ID Branch       City Customer type  Gender  \\\n",
       "0    750-67-8428      A     Yangon        Member  Female   \n",
       "1    226-31-3081      C  Naypyitaw        Normal  Female   \n",
       "2    631-41-3108      A     Yangon        Normal    Male   \n",
       "3    123-19-1176      A     Yangon        Member    Male   \n",
       "4    373-73-7910      A     Yangon        Normal    Male   \n",
       "..           ...    ...        ...           ...     ...   \n",
       "995  233-67-5758      C  Naypyitaw        Normal    Male   \n",
       "996  303-96-2227      B   Mandalay        Normal  Female   \n",
       "997  727-02-1313      A     Yangon        Member    Male   \n",
       "998  347-56-2442      A     Yangon        Normal    Male   \n",
       "999  849-09-3807      A     Yangon        Member  Female   \n",
       "\n",
       "               Product line  Unit price  Quantity   Tax 5%     Total  \\\n",
       "0         Health and beauty       74.69         7  26.1415  548.9715   \n",
       "1    Electronic accessories       15.28         5   3.8200     80.22   \n",
       "2        Home and lifestyle       46.33         7  16.2155  340.5255   \n",
       "3         Health and beauty       58.22         8  23.2880   489.048   \n",
       "4         Sports and travel       86.31         7  30.2085  634.3785   \n",
       "..                      ...         ...       ...      ...       ...   \n",
       "995       Health and beauty       40.35         1   2.0175   42.3675   \n",
       "996      Home and lifestyle       97.38        10  48.6900   1022.49   \n",
       "997      Food and beverages       31.84         1   1.5920    33.432   \n",
       "998      Home and lifestyle       65.82         1   3.2910    69.111   \n",
       "999     Fashion accessories       88.34         7  30.9190   649.299   \n",
       "\n",
       "           Date   Time      Payment    cogs  gross margin percentage  \\\n",
       "0    01-05-2019  13:08      Ewallet  522.83                 4.761905   \n",
       "1    03-08-2019  10:29         Cash   76.40                 4.761905   \n",
       "2    03-03-2019  13:23  Credit card  324.31                 4.761905   \n",
       "3     1/27/2019  20:33      Ewallet  465.76                 4.761905   \n",
       "4    02-08-2019  10:37      Ewallet  604.17                 4.761905   \n",
       "..          ...    ...          ...     ...                      ...   \n",
       "995   1/29/2019  13:46      Ewallet   40.35                 4.761905   \n",
       "996  03-02-2019  17:16      Ewallet  973.80                 4.761905   \n",
       "997  02-09-2019  13:22         Cash   31.84                 4.761905   \n",
       "998   2/22/2019  15:33         Cash   65.82                 4.761905   \n",
       "999   2/18/2019  13:28         Cash  618.38                 4.761905   \n",
       "\n",
       "     gross income  Rating  \n",
       "0         26.1415     9.1  \n",
       "1          3.8200     9.6  \n",
       "2         16.2155     7.4  \n",
       "3         23.2880     8.4  \n",
       "4         30.2085     5.3  \n",
       "..            ...     ...  \n",
       "995        2.0175     6.2  \n",
       "996       48.6900     4.4  \n",
       "997        1.5920     7.7  \n",
       "998        3.2910     4.1  \n",
       "999       30.9190     6.6  \n",
       "\n",
       "[1000 rows x 17 columns]"
      ]
     },
     "execution_count": 4,
     "metadata": {},
     "output_type": "execute_result"
    }
   ],
   "source": [
    "data"
   ]
  },
  {
   "cell_type": "code",
   "execution_count": 5,
   "id": "8cecb7e5",
   "metadata": {},
   "outputs": [
    {
     "data": {
      "text/plain": [
       "Invoice ID                  object\n",
       "Branch                      object\n",
       "City                        object\n",
       "Customer type               object\n",
       "Gender                      object\n",
       "Product line                object\n",
       "Unit price                 float64\n",
       "Quantity                     int64\n",
       "Tax 5%                     float64\n",
       "Total                       object\n",
       "Date                        object\n",
       "Time                        object\n",
       "Payment                     object\n",
       "cogs                       float64\n",
       "gross margin percentage    float64\n",
       "gross income               float64\n",
       "Rating                     float64\n",
       "dtype: object"
      ]
     },
     "execution_count": 5,
     "metadata": {},
     "output_type": "execute_result"
    }
   ],
   "source": [
    "data.dtypes"
   ]
  },
  {
   "cell_type": "code",
   "execution_count": 6,
   "id": "2ffd01e7",
   "metadata": {},
   "outputs": [
    {
     "data": {
      "text/plain": [
       "<bound method DataFrame.info of       Invoice ID Branch       City Customer type  Gender  \\\n",
       "0    750-67-8428      A     Yangon        Member  Female   \n",
       "1    226-31-3081      C  Naypyitaw        Normal  Female   \n",
       "2    631-41-3108      A     Yangon        Normal    Male   \n",
       "3    123-19-1176      A     Yangon        Member    Male   \n",
       "4    373-73-7910      A     Yangon        Normal    Male   \n",
       "..           ...    ...        ...           ...     ...   \n",
       "995  233-67-5758      C  Naypyitaw        Normal    Male   \n",
       "996  303-96-2227      B   Mandalay        Normal  Female   \n",
       "997  727-02-1313      A     Yangon        Member    Male   \n",
       "998  347-56-2442      A     Yangon        Normal    Male   \n",
       "999  849-09-3807      A     Yangon        Member  Female   \n",
       "\n",
       "               Product line  Unit price  Quantity   Tax 5%     Total  \\\n",
       "0         Health and beauty       74.69         7  26.1415  548.9715   \n",
       "1    Electronic accessories       15.28         5   3.8200     80.22   \n",
       "2        Home and lifestyle       46.33         7  16.2155  340.5255   \n",
       "3         Health and beauty       58.22         8  23.2880   489.048   \n",
       "4         Sports and travel       86.31         7  30.2085  634.3785   \n",
       "..                      ...         ...       ...      ...       ...   \n",
       "995       Health and beauty       40.35         1   2.0175   42.3675   \n",
       "996      Home and lifestyle       97.38        10  48.6900   1022.49   \n",
       "997      Food and beverages       31.84         1   1.5920    33.432   \n",
       "998      Home and lifestyle       65.82         1   3.2910    69.111   \n",
       "999     Fashion accessories       88.34         7  30.9190   649.299   \n",
       "\n",
       "           Date   Time      Payment    cogs  gross margin percentage  \\\n",
       "0    01-05-2019  13:08      Ewallet  522.83                 4.761905   \n",
       "1    03-08-2019  10:29         Cash   76.40                 4.761905   \n",
       "2    03-03-2019  13:23  Credit card  324.31                 4.761905   \n",
       "3     1/27/2019  20:33      Ewallet  465.76                 4.761905   \n",
       "4    02-08-2019  10:37      Ewallet  604.17                 4.761905   \n",
       "..          ...    ...          ...     ...                      ...   \n",
       "995   1/29/2019  13:46      Ewallet   40.35                 4.761905   \n",
       "996  03-02-2019  17:16      Ewallet  973.80                 4.761905   \n",
       "997  02-09-2019  13:22         Cash   31.84                 4.761905   \n",
       "998   2/22/2019  15:33         Cash   65.82                 4.761905   \n",
       "999   2/18/2019  13:28         Cash  618.38                 4.761905   \n",
       "\n",
       "     gross income  Rating  \n",
       "0         26.1415     9.1  \n",
       "1          3.8200     9.6  \n",
       "2         16.2155     7.4  \n",
       "3         23.2880     8.4  \n",
       "4         30.2085     5.3  \n",
       "..            ...     ...  \n",
       "995        2.0175     6.2  \n",
       "996       48.6900     4.4  \n",
       "997        1.5920     7.7  \n",
       "998        3.2910     4.1  \n",
       "999       30.9190     6.6  \n",
       "\n",
       "[1000 rows x 17 columns]>"
      ]
     },
     "execution_count": 6,
     "metadata": {},
     "output_type": "execute_result"
    }
   ],
   "source": [
    "data.info"
   ]
  },
  {
   "cell_type": "code",
   "execution_count": 7,
   "id": "639adfb4",
   "metadata": {},
   "outputs": [
    {
     "data": {
      "text/html": [
       "<div>\n",
       "<style scoped>\n",
       "    .dataframe tbody tr th:only-of-type {\n",
       "        vertical-align: middle;\n",
       "    }\n",
       "\n",
       "    .dataframe tbody tr th {\n",
       "        vertical-align: top;\n",
       "    }\n",
       "\n",
       "    .dataframe thead th {\n",
       "        text-align: right;\n",
       "    }\n",
       "</style>\n",
       "<table border=\"1\" class=\"dataframe\">\n",
       "  <thead>\n",
       "    <tr style=\"text-align: right;\">\n",
       "      <th></th>\n",
       "      <th>Invoice ID</th>\n",
       "      <th>Branch</th>\n",
       "      <th>City</th>\n",
       "      <th>Customer type</th>\n",
       "      <th>Gender</th>\n",
       "      <th>Product line</th>\n",
       "      <th>Unit price</th>\n",
       "      <th>Quantity</th>\n",
       "      <th>Tax 5%</th>\n",
       "      <th>Total</th>\n",
       "      <th>Date</th>\n",
       "      <th>Time</th>\n",
       "      <th>Payment</th>\n",
       "      <th>cogs</th>\n",
       "      <th>gross margin percentage</th>\n",
       "      <th>gross income</th>\n",
       "      <th>Rating</th>\n",
       "    </tr>\n",
       "  </thead>\n",
       "  <tbody>\n",
       "    <tr>\n",
       "      <th>0</th>\n",
       "      <td>750-67-8428</td>\n",
       "      <td>A</td>\n",
       "      <td>Yangon</td>\n",
       "      <td>Member</td>\n",
       "      <td>Female</td>\n",
       "      <td>Health and beauty</td>\n",
       "      <td>74.69</td>\n",
       "      <td>7</td>\n",
       "      <td>26.1415</td>\n",
       "      <td>548.9715</td>\n",
       "      <td>01-05-2019</td>\n",
       "      <td>13:08</td>\n",
       "      <td>Ewallet</td>\n",
       "      <td>522.83</td>\n",
       "      <td>4.761905</td>\n",
       "      <td>26.1415</td>\n",
       "      <td>9.1</td>\n",
       "    </tr>\n",
       "    <tr>\n",
       "      <th>1</th>\n",
       "      <td>226-31-3081</td>\n",
       "      <td>C</td>\n",
       "      <td>Naypyitaw</td>\n",
       "      <td>Normal</td>\n",
       "      <td>Female</td>\n",
       "      <td>Electronic accessories</td>\n",
       "      <td>15.28</td>\n",
       "      <td>5</td>\n",
       "      <td>3.8200</td>\n",
       "      <td>80.22</td>\n",
       "      <td>03-08-2019</td>\n",
       "      <td>10:29</td>\n",
       "      <td>Cash</td>\n",
       "      <td>76.40</td>\n",
       "      <td>4.761905</td>\n",
       "      <td>3.8200</td>\n",
       "      <td>9.6</td>\n",
       "    </tr>\n",
       "    <tr>\n",
       "      <th>2</th>\n",
       "      <td>631-41-3108</td>\n",
       "      <td>A</td>\n",
       "      <td>Yangon</td>\n",
       "      <td>Normal</td>\n",
       "      <td>Male</td>\n",
       "      <td>Home and lifestyle</td>\n",
       "      <td>46.33</td>\n",
       "      <td>7</td>\n",
       "      <td>16.2155</td>\n",
       "      <td>340.5255</td>\n",
       "      <td>03-03-2019</td>\n",
       "      <td>13:23</td>\n",
       "      <td>Credit card</td>\n",
       "      <td>324.31</td>\n",
       "      <td>4.761905</td>\n",
       "      <td>16.2155</td>\n",
       "      <td>7.4</td>\n",
       "    </tr>\n",
       "    <tr>\n",
       "      <th>3</th>\n",
       "      <td>123-19-1176</td>\n",
       "      <td>A</td>\n",
       "      <td>Yangon</td>\n",
       "      <td>Member</td>\n",
       "      <td>Male</td>\n",
       "      <td>Health and beauty</td>\n",
       "      <td>58.22</td>\n",
       "      <td>8</td>\n",
       "      <td>23.2880</td>\n",
       "      <td>489.048</td>\n",
       "      <td>1/27/2019</td>\n",
       "      <td>20:33</td>\n",
       "      <td>Ewallet</td>\n",
       "      <td>465.76</td>\n",
       "      <td>4.761905</td>\n",
       "      <td>23.2880</td>\n",
       "      <td>8.4</td>\n",
       "    </tr>\n",
       "    <tr>\n",
       "      <th>4</th>\n",
       "      <td>373-73-7910</td>\n",
       "      <td>A</td>\n",
       "      <td>Yangon</td>\n",
       "      <td>Normal</td>\n",
       "      <td>Male</td>\n",
       "      <td>Sports and travel</td>\n",
       "      <td>86.31</td>\n",
       "      <td>7</td>\n",
       "      <td>30.2085</td>\n",
       "      <td>634.3785</td>\n",
       "      <td>02-08-2019</td>\n",
       "      <td>10:37</td>\n",
       "      <td>Ewallet</td>\n",
       "      <td>604.17</td>\n",
       "      <td>4.761905</td>\n",
       "      <td>30.2085</td>\n",
       "      <td>5.3</td>\n",
       "    </tr>\n",
       "  </tbody>\n",
       "</table>\n",
       "</div>"
      ],
      "text/plain": [
       "    Invoice ID Branch       City Customer type  Gender  \\\n",
       "0  750-67-8428      A     Yangon        Member  Female   \n",
       "1  226-31-3081      C  Naypyitaw        Normal  Female   \n",
       "2  631-41-3108      A     Yangon        Normal    Male   \n",
       "3  123-19-1176      A     Yangon        Member    Male   \n",
       "4  373-73-7910      A     Yangon        Normal    Male   \n",
       "\n",
       "             Product line  Unit price  Quantity   Tax 5%     Total  \\\n",
       "0       Health and beauty       74.69         7  26.1415  548.9715   \n",
       "1  Electronic accessories       15.28         5   3.8200     80.22   \n",
       "2      Home and lifestyle       46.33         7  16.2155  340.5255   \n",
       "3       Health and beauty       58.22         8  23.2880   489.048   \n",
       "4       Sports and travel       86.31         7  30.2085  634.3785   \n",
       "\n",
       "         Date   Time      Payment    cogs  gross margin percentage  \\\n",
       "0  01-05-2019  13:08      Ewallet  522.83                 4.761905   \n",
       "1  03-08-2019  10:29         Cash   76.40                 4.761905   \n",
       "2  03-03-2019  13:23  Credit card  324.31                 4.761905   \n",
       "3   1/27/2019  20:33      Ewallet  465.76                 4.761905   \n",
       "4  02-08-2019  10:37      Ewallet  604.17                 4.761905   \n",
       "\n",
       "   gross income  Rating  \n",
       "0       26.1415     9.1  \n",
       "1        3.8200     9.6  \n",
       "2       16.2155     7.4  \n",
       "3       23.2880     8.4  \n",
       "4       30.2085     5.3  "
      ]
     },
     "execution_count": 7,
     "metadata": {},
     "output_type": "execute_result"
    }
   ],
   "source": [
    "data.head()"
   ]
  },
  {
   "cell_type": "code",
   "execution_count": 8,
   "id": "0ef1252c",
   "metadata": {},
   "outputs": [
    {
     "data": {
      "text/html": [
       "<div>\n",
       "<style scoped>\n",
       "    .dataframe tbody tr th:only-of-type {\n",
       "        vertical-align: middle;\n",
       "    }\n",
       "\n",
       "    .dataframe tbody tr th {\n",
       "        vertical-align: top;\n",
       "    }\n",
       "\n",
       "    .dataframe thead th {\n",
       "        text-align: right;\n",
       "    }\n",
       "</style>\n",
       "<table border=\"1\" class=\"dataframe\">\n",
       "  <thead>\n",
       "    <tr style=\"text-align: right;\">\n",
       "      <th></th>\n",
       "      <th>Invoice ID</th>\n",
       "      <th>Branch</th>\n",
       "      <th>City</th>\n",
       "      <th>Customer type</th>\n",
       "      <th>Gender</th>\n",
       "      <th>Product line</th>\n",
       "      <th>Unit price</th>\n",
       "      <th>Quantity</th>\n",
       "      <th>Tax 5%</th>\n",
       "      <th>Total</th>\n",
       "      <th>Date</th>\n",
       "      <th>Time</th>\n",
       "      <th>Payment</th>\n",
       "      <th>cogs</th>\n",
       "      <th>gross margin percentage</th>\n",
       "      <th>gross income</th>\n",
       "      <th>Rating</th>\n",
       "    </tr>\n",
       "  </thead>\n",
       "  <tbody>\n",
       "    <tr>\n",
       "      <th>995</th>\n",
       "      <td>233-67-5758</td>\n",
       "      <td>C</td>\n",
       "      <td>Naypyitaw</td>\n",
       "      <td>Normal</td>\n",
       "      <td>Male</td>\n",
       "      <td>Health and beauty</td>\n",
       "      <td>40.35</td>\n",
       "      <td>1</td>\n",
       "      <td>2.0175</td>\n",
       "      <td>42.3675</td>\n",
       "      <td>1/29/2019</td>\n",
       "      <td>13:46</td>\n",
       "      <td>Ewallet</td>\n",
       "      <td>40.35</td>\n",
       "      <td>4.761905</td>\n",
       "      <td>2.0175</td>\n",
       "      <td>6.2</td>\n",
       "    </tr>\n",
       "    <tr>\n",
       "      <th>996</th>\n",
       "      <td>303-96-2227</td>\n",
       "      <td>B</td>\n",
       "      <td>Mandalay</td>\n",
       "      <td>Normal</td>\n",
       "      <td>Female</td>\n",
       "      <td>Home and lifestyle</td>\n",
       "      <td>97.38</td>\n",
       "      <td>10</td>\n",
       "      <td>48.6900</td>\n",
       "      <td>1022.49</td>\n",
       "      <td>03-02-2019</td>\n",
       "      <td>17:16</td>\n",
       "      <td>Ewallet</td>\n",
       "      <td>973.80</td>\n",
       "      <td>4.761905</td>\n",
       "      <td>48.6900</td>\n",
       "      <td>4.4</td>\n",
       "    </tr>\n",
       "    <tr>\n",
       "      <th>997</th>\n",
       "      <td>727-02-1313</td>\n",
       "      <td>A</td>\n",
       "      <td>Yangon</td>\n",
       "      <td>Member</td>\n",
       "      <td>Male</td>\n",
       "      <td>Food and beverages</td>\n",
       "      <td>31.84</td>\n",
       "      <td>1</td>\n",
       "      <td>1.5920</td>\n",
       "      <td>33.432</td>\n",
       "      <td>02-09-2019</td>\n",
       "      <td>13:22</td>\n",
       "      <td>Cash</td>\n",
       "      <td>31.84</td>\n",
       "      <td>4.761905</td>\n",
       "      <td>1.5920</td>\n",
       "      <td>7.7</td>\n",
       "    </tr>\n",
       "    <tr>\n",
       "      <th>998</th>\n",
       "      <td>347-56-2442</td>\n",
       "      <td>A</td>\n",
       "      <td>Yangon</td>\n",
       "      <td>Normal</td>\n",
       "      <td>Male</td>\n",
       "      <td>Home and lifestyle</td>\n",
       "      <td>65.82</td>\n",
       "      <td>1</td>\n",
       "      <td>3.2910</td>\n",
       "      <td>69.111</td>\n",
       "      <td>2/22/2019</td>\n",
       "      <td>15:33</td>\n",
       "      <td>Cash</td>\n",
       "      <td>65.82</td>\n",
       "      <td>4.761905</td>\n",
       "      <td>3.2910</td>\n",
       "      <td>4.1</td>\n",
       "    </tr>\n",
       "    <tr>\n",
       "      <th>999</th>\n",
       "      <td>849-09-3807</td>\n",
       "      <td>A</td>\n",
       "      <td>Yangon</td>\n",
       "      <td>Member</td>\n",
       "      <td>Female</td>\n",
       "      <td>Fashion accessories</td>\n",
       "      <td>88.34</td>\n",
       "      <td>7</td>\n",
       "      <td>30.9190</td>\n",
       "      <td>649.299</td>\n",
       "      <td>2/18/2019</td>\n",
       "      <td>13:28</td>\n",
       "      <td>Cash</td>\n",
       "      <td>618.38</td>\n",
       "      <td>4.761905</td>\n",
       "      <td>30.9190</td>\n",
       "      <td>6.6</td>\n",
       "    </tr>\n",
       "  </tbody>\n",
       "</table>\n",
       "</div>"
      ],
      "text/plain": [
       "      Invoice ID Branch       City Customer type  Gender         Product line  \\\n",
       "995  233-67-5758      C  Naypyitaw        Normal    Male    Health and beauty   \n",
       "996  303-96-2227      B   Mandalay        Normal  Female   Home and lifestyle   \n",
       "997  727-02-1313      A     Yangon        Member    Male   Food and beverages   \n",
       "998  347-56-2442      A     Yangon        Normal    Male   Home and lifestyle   \n",
       "999  849-09-3807      A     Yangon        Member  Female  Fashion accessories   \n",
       "\n",
       "     Unit price  Quantity   Tax 5%    Total        Date   Time  Payment  \\\n",
       "995       40.35         1   2.0175  42.3675   1/29/2019  13:46  Ewallet   \n",
       "996       97.38        10  48.6900  1022.49  03-02-2019  17:16  Ewallet   \n",
       "997       31.84         1   1.5920   33.432  02-09-2019  13:22     Cash   \n",
       "998       65.82         1   3.2910   69.111   2/22/2019  15:33     Cash   \n",
       "999       88.34         7  30.9190  649.299   2/18/2019  13:28     Cash   \n",
       "\n",
       "       cogs  gross margin percentage  gross income  Rating  \n",
       "995   40.35                 4.761905        2.0175     6.2  \n",
       "996  973.80                 4.761905       48.6900     4.4  \n",
       "997   31.84                 4.761905        1.5920     7.7  \n",
       "998   65.82                 4.761905        3.2910     4.1  \n",
       "999  618.38                 4.761905       30.9190     6.6  "
      ]
     },
     "execution_count": 8,
     "metadata": {},
     "output_type": "execute_result"
    }
   ],
   "source": [
    "data.tail()"
   ]
  },
  {
   "cell_type": "code",
   "execution_count": 9,
   "id": "633c0daf",
   "metadata": {},
   "outputs": [
    {
     "data": {
      "text/plain": [
       "15.379369000000002"
      ]
     },
     "execution_count": 9,
     "metadata": {},
     "output_type": "execute_result"
    }
   ],
   "source": [
    "#to calaculate the mean of Gross Income ?\n",
    "data['gross income'].mean()"
   ]
  },
  {
   "cell_type": "code",
   "execution_count": 10,
   "id": "df85a807",
   "metadata": {},
   "outputs": [
    {
     "data": {
      "text/plain": [
       "12.088000000000001"
      ]
     },
     "execution_count": 10,
     "metadata": {},
     "output_type": "execute_result"
    }
   ],
   "source": [
    "#to calaculate the median of Gross Income ?\n",
    "data['gross income'].median()"
   ]
  },
  {
   "cell_type": "code",
   "execution_count": 11,
   "id": "5175a5ad",
   "metadata": {},
   "outputs": [
    {
     "data": {
      "text/plain": [
       "0    Female\n",
       "dtype: object"
      ]
     },
     "execution_count": 11,
     "metadata": {},
     "output_type": "execute_result"
    }
   ],
   "source": [
    "# mode of gender\n",
    "data['Gender'].mode() # chacategorial values mode"
   ]
  },
  {
   "cell_type": "code",
   "execution_count": 12,
   "id": "747f67a4",
   "metadata": {},
   "outputs": [
    {
     "data": {
      "text/plain": [
       "Female    501\n",
       "Male      499\n",
       "Name: Gender, dtype: int64"
      ]
     },
     "execution_count": 12,
     "metadata": {},
     "output_type": "execute_result"
    }
   ],
   "source": [
    "data['Gender'].value_counts()# for finding total number of male and female"
   ]
  },
  {
   "cell_type": "code",
   "execution_count": 13,
   "id": "e4704631",
   "metadata": {},
   "outputs": [
    {
     "data": {
      "text/plain": [
       "2"
      ]
     },
     "execution_count": 13,
     "metadata": {},
     "output_type": "execute_result"
    }
   ],
   "source": [
    "data[\"Gender\"].nunique() # for numerically describe the unique  value"
   ]
  },
  {
   "cell_type": "code",
   "execution_count": 14,
   "id": "783e1a9c",
   "metadata": {},
   "outputs": [
    {
     "data": {
      "text/html": [
       "<div>\n",
       "<style scoped>\n",
       "    .dataframe tbody tr th:only-of-type {\n",
       "        vertical-align: middle;\n",
       "    }\n",
       "\n",
       "    .dataframe tbody tr th {\n",
       "        vertical-align: top;\n",
       "    }\n",
       "\n",
       "    .dataframe thead th {\n",
       "        text-align: right;\n",
       "    }\n",
       "</style>\n",
       "<table border=\"1\" class=\"dataframe\">\n",
       "  <thead>\n",
       "    <tr style=\"text-align: right;\">\n",
       "      <th></th>\n",
       "      <th>Invoice ID</th>\n",
       "      <th>Branch</th>\n",
       "      <th>City</th>\n",
       "      <th>Customer type</th>\n",
       "      <th>Gender</th>\n",
       "      <th>Product line</th>\n",
       "      <th>Total</th>\n",
       "      <th>Date</th>\n",
       "      <th>Time</th>\n",
       "      <th>Payment</th>\n",
       "    </tr>\n",
       "  </thead>\n",
       "  <tbody>\n",
       "    <tr>\n",
       "      <th>count</th>\n",
       "      <td>1000</td>\n",
       "      <td>1000</td>\n",
       "      <td>1000</td>\n",
       "      <td>1000</td>\n",
       "      <td>1000</td>\n",
       "      <td>1000</td>\n",
       "      <td>1000</td>\n",
       "      <td>1000</td>\n",
       "      <td>1000</td>\n",
       "      <td>1000</td>\n",
       "    </tr>\n",
       "    <tr>\n",
       "      <th>unique</th>\n",
       "      <td>1000</td>\n",
       "      <td>3</td>\n",
       "      <td>3</td>\n",
       "      <td>2</td>\n",
       "      <td>2</td>\n",
       "      <td>6</td>\n",
       "      <td>990</td>\n",
       "      <td>89</td>\n",
       "      <td>506</td>\n",
       "      <td>3</td>\n",
       "    </tr>\n",
       "    <tr>\n",
       "      <th>top</th>\n",
       "      <td>750-67-8428</td>\n",
       "      <td>A</td>\n",
       "      <td>Yangon</td>\n",
       "      <td>Member</td>\n",
       "      <td>Female</td>\n",
       "      <td>Fashion accessories</td>\n",
       "      <td>216.846</td>\n",
       "      <td>02-07-2019</td>\n",
       "      <td>19:48</td>\n",
       "      <td>Ewallet</td>\n",
       "    </tr>\n",
       "    <tr>\n",
       "      <th>freq</th>\n",
       "      <td>1</td>\n",
       "      <td>340</td>\n",
       "      <td>340</td>\n",
       "      <td>501</td>\n",
       "      <td>501</td>\n",
       "      <td>178</td>\n",
       "      <td>2</td>\n",
       "      <td>20</td>\n",
       "      <td>7</td>\n",
       "      <td>345</td>\n",
       "    </tr>\n",
       "  </tbody>\n",
       "</table>\n",
       "</div>"
      ],
      "text/plain": [
       "         Invoice ID Branch    City Customer type  Gender         Product line  \\\n",
       "count          1000   1000    1000          1000    1000                 1000   \n",
       "unique         1000      3       3             2       2                    6   \n",
       "top     750-67-8428      A  Yangon        Member  Female  Fashion accessories   \n",
       "freq              1    340     340           501     501                  178   \n",
       "\n",
       "          Total        Date   Time  Payment  \n",
       "count      1000        1000   1000     1000  \n",
       "unique      990          89    506        3  \n",
       "top     216.846  02-07-2019  19:48  Ewallet  \n",
       "freq          2          20      7      345  "
      ]
     },
     "execution_count": 14,
     "metadata": {},
     "output_type": "execute_result"
    }
   ],
   "source": [
    "data.describe(include='O')"
   ]
  },
  {
   "cell_type": "code",
   "execution_count": 15,
   "id": "2f724243",
   "metadata": {},
   "outputs": [],
   "source": [
    "# create a function \n",
    " # arg : Data \n",
    "#     - shape\n",
    "#     - dtype\n",
    "#     - head\n",
    "#     - tail\n",
    "#     - describe\n",
    "#     - info\n",
    "#     - null\n",
    "# data = pd.read_csv(\"data/supermarket_sales.csv\")"
   ]
  },
  {
   "cell_type": "code",
   "execution_count": 28,
   "id": "1305b609",
   "metadata": {},
   "outputs": [
    {
     "name": "stdout",
     "output_type": "stream",
     "text": [
      "Shape of the data :\n",
      " (1000, 17)\n",
      "\n",
      "\n",
      " Data type of the given data :\n",
      "  Invoice ID                  object\n",
      "Branch                      object\n",
      "City                        object\n",
      "Customer type               object\n",
      "Gender                      object\n",
      "Product line                object\n",
      "Unit price                 float64\n",
      "Quantity                     int64\n",
      "Tax 5%                     float64\n",
      "Total                       object\n",
      "Date                        object\n",
      "Time                        object\n",
      "Payment                     object\n",
      "cogs                       float64\n",
      "gross margin percentage    float64\n",
      "gross income               float64\n",
      "Rating                     float64\n",
      "dtype: object\n",
      "\n",
      "\n",
      " First 5 data :\n",
      "     Invoice ID Branch       City Customer type  Gender  \\\n",
      "0  750-67-8428      A     Yangon        Member  Female   \n",
      "1  226-31-3081      C  Naypyitaw        Normal  Female   \n",
      "2  631-41-3108      A     Yangon        Normal    Male   \n",
      "3  123-19-1176      A     Yangon        Member    Male   \n",
      "4  373-73-7910      A     Yangon        Normal    Male   \n",
      "\n",
      "             Product line  Unit price  Quantity   Tax 5%     Total  \\\n",
      "0       Health and beauty       74.69         7  26.1415  548.9715   \n",
      "1  Electronic accessories       15.28         5   3.8200     80.22   \n",
      "2      Home and lifestyle       46.33         7  16.2155  340.5255   \n",
      "3       Health and beauty       58.22         8  23.2880   489.048   \n",
      "4       Sports and travel       86.31         7  30.2085  634.3785   \n",
      "\n",
      "         Date   Time      Payment    cogs  gross margin percentage  \\\n",
      "0  01-05-2019  13:08      Ewallet  522.83                 4.761905   \n",
      "1  03-08-2019  10:29         Cash   76.40                 4.761905   \n",
      "2  03-03-2019  13:23  Credit card  324.31                 4.761905   \n",
      "3   1/27/2019  20:33      Ewallet  465.76                 4.761905   \n",
      "4  02-08-2019  10:37      Ewallet  604.17                 4.761905   \n",
      "\n",
      "   gross income  Rating  \n",
      "0       26.1415     9.1  \n",
      "1        3.8200     9.6  \n",
      "2       16.2155     7.4  \n",
      "3       23.2880     8.4  \n",
      "4       30.2085     5.3  \n",
      " \n",
      "\n",
      "Last 5 data :\n",
      "       Invoice ID Branch       City Customer type  Gender         Product line  \\\n",
      "995  233-67-5758      C  Naypyitaw        Normal    Male    Health and beauty   \n",
      "996  303-96-2227      B   Mandalay        Normal  Female   Home and lifestyle   \n",
      "997  727-02-1313      A     Yangon        Member    Male   Food and beverages   \n",
      "998  347-56-2442      A     Yangon        Normal    Male   Home and lifestyle   \n",
      "999  849-09-3807      A     Yangon        Member  Female  Fashion accessories   \n",
      "\n",
      "     Unit price  Quantity   Tax 5%    Total        Date   Time  Payment  \\\n",
      "995       40.35         1   2.0175  42.3675   1/29/2019  13:46  Ewallet   \n",
      "996       97.38        10  48.6900  1022.49  03-02-2019  17:16  Ewallet   \n",
      "997       31.84         1   1.5920   33.432  02-09-2019  13:22     Cash   \n",
      "998       65.82         1   3.2910   69.111   2/22/2019  15:33     Cash   \n",
      "999       88.34         7  30.9190  649.299   2/18/2019  13:28     Cash   \n",
      "\n",
      "       cogs  gross margin percentage  gross income  Rating  \n",
      "995   40.35                 4.761905        2.0175     6.2  \n",
      "996  973.80                 4.761905       48.6900     4.4  \n",
      "997   31.84                 4.761905        1.5920     7.7  \n",
      "998   65.82                 4.761905        3.2910     4.1  \n",
      "999  618.38                 4.761905       30.9190     6.6  \n",
      "\n",
      "\n",
      " Describing the data :\n",
      "  <bound method NDFrame.describe of       Invoice ID Branch       City Customer type  Gender  \\\n",
      "0    750-67-8428      A     Yangon        Member  Female   \n",
      "1    226-31-3081      C  Naypyitaw        Normal  Female   \n",
      "2    631-41-3108      A     Yangon        Normal    Male   \n",
      "3    123-19-1176      A     Yangon        Member    Male   \n",
      "4    373-73-7910      A     Yangon        Normal    Male   \n",
      "..           ...    ...        ...           ...     ...   \n",
      "995  233-67-5758      C  Naypyitaw        Normal    Male   \n",
      "996  303-96-2227      B   Mandalay        Normal  Female   \n",
      "997  727-02-1313      A     Yangon        Member    Male   \n",
      "998  347-56-2442      A     Yangon        Normal    Male   \n",
      "999  849-09-3807      A     Yangon        Member  Female   \n",
      "\n",
      "               Product line  Unit price  Quantity   Tax 5%     Total  \\\n",
      "0         Health and beauty       74.69         7  26.1415  548.9715   \n",
      "1    Electronic accessories       15.28         5   3.8200     80.22   \n",
      "2        Home and lifestyle       46.33         7  16.2155  340.5255   \n",
      "3         Health and beauty       58.22         8  23.2880   489.048   \n",
      "4         Sports and travel       86.31         7  30.2085  634.3785   \n",
      "..                      ...         ...       ...      ...       ...   \n",
      "995       Health and beauty       40.35         1   2.0175   42.3675   \n",
      "996      Home and lifestyle       97.38        10  48.6900   1022.49   \n",
      "997      Food and beverages       31.84         1   1.5920    33.432   \n",
      "998      Home and lifestyle       65.82         1   3.2910    69.111   \n",
      "999     Fashion accessories       88.34         7  30.9190   649.299   \n",
      "\n",
      "           Date   Time      Payment    cogs  gross margin percentage  \\\n",
      "0    01-05-2019  13:08      Ewallet  522.83                 4.761905   \n",
      "1    03-08-2019  10:29         Cash   76.40                 4.761905   \n",
      "2    03-03-2019  13:23  Credit card  324.31                 4.761905   \n",
      "3     1/27/2019  20:33      Ewallet  465.76                 4.761905   \n",
      "4    02-08-2019  10:37      Ewallet  604.17                 4.761905   \n",
      "..          ...    ...          ...     ...                      ...   \n",
      "995   1/29/2019  13:46      Ewallet   40.35                 4.761905   \n",
      "996  03-02-2019  17:16      Ewallet  973.80                 4.761905   \n",
      "997  02-09-2019  13:22         Cash   31.84                 4.761905   \n",
      "998   2/22/2019  15:33         Cash   65.82                 4.761905   \n",
      "999   2/18/2019  13:28         Cash  618.38                 4.761905   \n",
      "\n",
      "     gross income  Rating  \n",
      "0         26.1415     9.1  \n",
      "1          3.8200     9.6  \n",
      "2         16.2155     7.4  \n",
      "3         23.2880     8.4  \n",
      "4         30.2085     5.3  \n",
      "..            ...     ...  \n",
      "995        2.0175     6.2  \n",
      "996       48.6900     4.4  \n",
      "997        1.5920     7.7  \n",
      "998        3.2910     4.1  \n",
      "999       30.9190     6.6  \n",
      "\n",
      "[1000 rows x 17 columns]>\n",
      "<class 'pandas.core.frame.DataFrame'>\n",
      "RangeIndex: 1000 entries, 0 to 999\n",
      "Data columns (total 17 columns):\n",
      " #   Column                   Non-Null Count  Dtype  \n",
      "---  ------                   --------------  -----  \n",
      " 0   Invoice ID               1000 non-null   object \n",
      " 1   Branch                   1000 non-null   object \n",
      " 2   City                     1000 non-null   object \n",
      " 3   Customer type            1000 non-null   object \n",
      " 4   Gender                   1000 non-null   object \n",
      " 5   Product line             1000 non-null   object \n",
      " 6   Unit price               1000 non-null   float64\n",
      " 7   Quantity                 1000 non-null   int64  \n",
      " 8   Tax 5%                   1000 non-null   float64\n",
      " 9   Total                    1000 non-null   object \n",
      " 10  Date                     1000 non-null   object \n",
      " 11  Time                     1000 non-null   object \n",
      " 12  Payment                  1000 non-null   object \n",
      " 13  cogs                     1000 non-null   float64\n",
      " 14  gross margin percentage  1000 non-null   float64\n",
      " 15  gross income             1000 non-null   float64\n",
      " 16  Rating                   1000 non-null   float64\n",
      "dtypes: float64(6), int64(1), object(10)\n",
      "memory usage: 132.9+ KB\n",
      "\n",
      "\n",
      " Info of the data :\n",
      " None\n",
      "\n",
      "\n",
      " Finding the missing value:\n",
      " Invoice ID                 0\n",
      "Branch                     0\n",
      "City                       0\n",
      "Customer type              0\n",
      "Gender                     0\n",
      "Product line               0\n",
      "Unit price                 0\n",
      "Quantity                   0\n",
      "Tax 5%                     0\n",
      "Total                      0\n",
      "Date                       0\n",
      "Time                       0\n",
      "Payment                    0\n",
      "cogs                       0\n",
      "gross margin percentage    0\n",
      "gross income               0\n",
      "Rating                     0\n",
      "dtype: int64\n"
     ]
    }
   ],
   "source": [
    "def summaryofdata(data):\n",
    "    print(\"Shape of the data :\\n\",data.shape)\n",
    "    print(\"\\n\\n Data type of the given data :\\n \",data.dtypes)\n",
    "    print(\"\\n\\n First 5 data :\\n\",data.head())\n",
    "    print(\" \\n\\nLast 5 data :\\n\",data.tail())\n",
    "    print(\"\\n\\n Describing the data :\\n \",data.describe)\n",
    "    print(\"\\n\\n Info of the data :\\n\",data.info())\n",
    "    print(\"\\n\\n Finding the missing value:\\n\",data.isnull().sum())\n",
    "summaryofdata(data)\n",
    "\n"
   ]
  },
  {
   "cell_type": "code",
   "execution_count": 17,
   "id": "bc2a5e88",
   "metadata": {},
   "outputs": [
    {
     "ename": "AttributeError",
     "evalue": "'DataFrame' object has no attribute 'n'",
     "output_type": "error",
     "traceback": [
      "\u001b[1;31m---------------------------------------------------------------------------\u001b[0m",
      "\u001b[1;31mAttributeError\u001b[0m                            Traceback (most recent call last)",
      "\u001b[1;32m~\\AppData\\Local\\Temp/ipykernel_10276/427821598.py\u001b[0m in \u001b[0;36m<module>\u001b[1;34m\u001b[0m\n\u001b[1;32m----> 1\u001b[1;33m \u001b[0mdata\u001b[0m\u001b[1;33m.\u001b[0m\u001b[0mn\u001b[0m\u001b[1;33m\u001b[0m\u001b[1;33m\u001b[0m\u001b[0m\n\u001b[0m",
      "\u001b[1;32m~\\anaconda3\\lib\\site-packages\\pandas\\core\\generic.py\u001b[0m in \u001b[0;36m__getattr__\u001b[1;34m(self, name)\u001b[0m\n\u001b[0;32m   5485\u001b[0m         ):\n\u001b[0;32m   5486\u001b[0m             \u001b[1;32mreturn\u001b[0m \u001b[0mself\u001b[0m\u001b[1;33m[\u001b[0m\u001b[0mname\u001b[0m\u001b[1;33m]\u001b[0m\u001b[1;33m\u001b[0m\u001b[1;33m\u001b[0m\u001b[0m\n\u001b[1;32m-> 5487\u001b[1;33m         \u001b[1;32mreturn\u001b[0m \u001b[0mobject\u001b[0m\u001b[1;33m.\u001b[0m\u001b[0m__getattribute__\u001b[0m\u001b[1;33m(\u001b[0m\u001b[0mself\u001b[0m\u001b[1;33m,\u001b[0m \u001b[0mname\u001b[0m\u001b[1;33m)\u001b[0m\u001b[1;33m\u001b[0m\u001b[1;33m\u001b[0m\u001b[0m\n\u001b[0m\u001b[0;32m   5488\u001b[0m \u001b[1;33m\u001b[0m\u001b[0m\n\u001b[0;32m   5489\u001b[0m     \u001b[1;32mdef\u001b[0m \u001b[0m__setattr__\u001b[0m\u001b[1;33m(\u001b[0m\u001b[0mself\u001b[0m\u001b[1;33m,\u001b[0m \u001b[0mname\u001b[0m\u001b[1;33m:\u001b[0m \u001b[0mstr\u001b[0m\u001b[1;33m,\u001b[0m \u001b[0mvalue\u001b[0m\u001b[1;33m)\u001b[0m \u001b[1;33m->\u001b[0m \u001b[1;32mNone\u001b[0m\u001b[1;33m:\u001b[0m\u001b[1;33m\u001b[0m\u001b[1;33m\u001b[0m\u001b[0m\n",
      "\u001b[1;31mAttributeError\u001b[0m: 'DataFrame' object has no attribute 'n'"
     ]
    }
   ],
   "source": [
    "data.n"
   ]
  },
  {
   "cell_type": "code",
   "execution_count": null,
   "id": "60cc585f",
   "metadata": {},
   "outputs": [],
   "source": [
    "# total gross income\n",
    "totalGrossIncome = data['gross income'].sum()\n",
    "print('Total gross income is :',totalGrossIncome)"
   ]
  },
  {
   "cell_type": "code",
   "execution_count": null,
   "id": "bcd93779",
   "metadata": {},
   "outputs": [],
   "source": [
    "# which is the most commonly used payment type ?\n",
    "payment = data['Payment'].mode()[0]\n"
   ]
  },
  {
   "cell_type": "code",
   "execution_count": null,
   "id": "a424cc33",
   "metadata": {},
   "outputs": [],
   "source": [
    "payment"
   ]
  },
  {
   "cell_type": "code",
   "execution_count": null,
   "id": "72c474cf",
   "metadata": {},
   "outputs": [],
   "source": [
    "print(f\"{payment} is the most commonly used payment \")"
   ]
  },
  {
   "cell_type": "code",
   "execution_count": null,
   "id": "96a8d7d0",
   "metadata": {},
   "outputs": [],
   "source": [
    "# whAAT IS THE AVERAGE UNIT PRICE OF THE PRODUCTS\n",
    "average = data[\"Unit price\"].mean()"
   ]
  },
  {
   "cell_type": "code",
   "execution_count": null,
   "id": "cdd74311",
   "metadata": {},
   "outputs": [],
   "source": [
    "print(f\"The average unit price of the product is {average}\")# f is used call variables in {} f = formated string literal"
   ]
  },
  {
   "cell_type": "code",
   "execution_count": null,
   "id": "532142f3",
   "metadata": {},
   "outputs": [],
   "source": [
    "# standarad deviation of product unit price ?\n",
    "data[\"Unit price\"].std()"
   ]
  },
  {
   "cell_type": "code",
   "execution_count": null,
   "id": "0e5c80bc",
   "metadata": {},
   "outputs": [],
   "source": [
    "# what is the total number of sales? == number of Invoice ?\n",
    "data[\"Invoice ID\"].nunique()"
   ]
  },
  {
   "cell_type": "code",
   "execution_count": null,
   "id": "1e0e66be",
   "metadata": {},
   "outputs": [],
   "source": [
    "data[\"Invoice ID\"].shape"
   ]
  },
  {
   "cell_type": "code",
   "execution_count": null,
   "id": "1c3c2480",
   "metadata": {},
   "outputs": [],
   "source": [
    "data[\"Invoice ID\"].size"
   ]
  },
  {
   "cell_type": "code",
   "execution_count": null,
   "id": "27f63d06",
   "metadata": {},
   "outputs": [],
   "source": [
    "data[\"Invoice ID\"].count()"
   ]
  },
  {
   "cell_type": "code",
   "execution_count": null,
   "id": "d89f3059",
   "metadata": {},
   "outputs": [],
   "source": [
    "data[\"Product line\"].unique()"
   ]
  },
  {
   "cell_type": "code",
   "execution_count": null,
   "id": "f7da9499",
   "metadata": {},
   "outputs": [],
   "source": [
    "#Problem 2\n",
    "data = pd.read_csv(\"data/adult.csv\")"
   ]
  },
  {
   "cell_type": "code",
   "execution_count": null,
   "id": "be91e1b6",
   "metadata": {},
   "outputs": [],
   "source": [
    "summaryofdata(data)"
   ]
  },
  {
   "cell_type": "code",
   "execution_count": null,
   "id": "3206d59c",
   "metadata": {},
   "outputs": [],
   "source": [
    "data.isnull().sum()"
   ]
  },
  {
   "cell_type": "code",
   "execution_count": null,
   "id": "2e77edb3",
   "metadata": {},
   "outputs": [],
   "source": [
    "# average work hour per week\n",
    "data['hours-per-week'].mean()"
   ]
  },
  {
   "cell_type": "code",
   "execution_count": null,
   "id": "937e077a",
   "metadata": {},
   "outputs": [],
   "source": [
    "# Average working hours Female and male\n",
    "data.groupby('gender')['hours-per-week'].mean()"
   ]
  },
  {
   "cell_type": "code",
   "execution_count": null,
   "id": "63ef6621",
   "metadata": {},
   "outputs": [],
   "source": [
    "data.columns"
   ]
  },
  {
   "cell_type": "code",
   "execution_count": null,
   "id": "dc1fc452",
   "metadata": {},
   "outputs": [],
   "source": [
    "data['workclass'].unique()"
   ]
  },
  {
   "cell_type": "code",
   "execution_count": null,
   "id": "76f9973a",
   "metadata": {},
   "outputs": [],
   "source": [
    "data['workclass'].nunique()"
   ]
  },
  {
   "cell_type": "code",
   "execution_count": null,
   "id": "22bd2dba",
   "metadata": {},
   "outputs": [],
   "source": [
    "data['workclass'].mode()"
   ]
  },
  {
   "cell_type": "code",
   "execution_count": null,
   "id": "0b90192a",
   "metadata": {},
   "outputs": [],
   "source": [
    "data.groupby(['workclass','gender'])['hours-per-week'].mean() #when multiple class needed write it in a list ([\"w,e\"])"
   ]
  },
  {
   "cell_type": "code",
   "execution_count": null,
   "id": "a57351a4",
   "metadata": {},
   "outputs": [],
   "source": [
    "data.describe # we get numerical values"
   ]
  },
  {
   "cell_type": "code",
   "execution_count": null,
   "id": "16b2183c",
   "metadata": {},
   "outputs": [],
   "source": [
    "data.describe(include=\"O\")# we get  characteristic value"
   ]
  },
  {
   "cell_type": "code",
   "execution_count": null,
   "id": "bfbfd5fc",
   "metadata": {},
   "outputs": [],
   "source": [
    "#with respect to Race ,working class and gender calculate Average hours per week\n"
   ]
  },
  {
   "cell_type": "code",
   "execution_count": null,
   "id": "577cccd1",
   "metadata": {},
   "outputs": [],
   "source": [
    "data['race'].value_counts()"
   ]
  },
  {
   "cell_type": "code",
   "execution_count": null,
   "id": "35ade54c",
   "metadata": {},
   "outputs": [],
   "source": [
    "data['race'].mode()[0]"
   ]
  },
  {
   "cell_type": "code",
   "execution_count": null,
   "id": "0c747ac5",
   "metadata": {},
   "outputs": [],
   "source": [
    "data.groupby(['race','workclass','gender'])['hours-per-week'].mean() # before max display"
   ]
  },
  {
   "cell_type": "code",
   "execution_count": null,
   "id": "c2bdb180",
   "metadata": {},
   "outputs": [],
   "source": [
    "pd.set_option('display.max_row',100) # display 100line"
   ]
  },
  {
   "cell_type": "code",
   "execution_count": null,
   "id": "356ed867",
   "metadata": {
    "scrolled": true
   },
   "outputs": [],
   "source": [
    "data.groupby(['race','workclass','gender'])['hours-per-week'].mean() # after max displays rows"
   ]
  },
  {
   "cell_type": "code",
   "execution_count": null,
   "id": "d90dfcc3",
   "metadata": {},
   "outputs": [],
   "source": [
    "#with respect to Race ,working class and gender calculate Average  age and hours per week\n",
    "data.groupby(['race','workclass','gender'])['age','hours-per-week'].mean()"
   ]
  },
  {
   "cell_type": "code",
   "execution_count": null,
   "id": "90c595f6",
   "metadata": {},
   "outputs": [],
   "source": [
    "outputDF= data.groupby(['race','workclass','gender'])['age','hours-per-week'].mean()"
   ]
  },
  {
   "cell_type": "code",
   "execution_count": null,
   "id": "1503f3f3",
   "metadata": {},
   "outputs": [],
   "source": [
    "type(outputDF)"
   ]
  },
  {
   "cell_type": "code",
   "execution_count": null,
   "id": "f47b177c",
   "metadata": {},
   "outputs": [],
   "source": [
    "# to csv \n",
    "outputDF.to_csv(\"sample.csv\")"
   ]
  },
  {
   "cell_type": "code",
   "execution_count": null,
   "id": "964fe8da",
   "metadata": {},
   "outputs": [],
   "source": [
    "# to excel\n",
    "outputDF.to_excel(\"sample2.xlsx\")"
   ]
  },
  {
   "cell_type": "code",
   "execution_count": null,
   "id": "f42c80d8",
   "metadata": {},
   "outputs": [],
   "source": [
    "outputDF.to_excel(r\"D:\\AI\\libraries of AI\\Pandas\\data\\sample2.xlsx\")"
   ]
  },
  {
   "cell_type": "code",
   "execution_count": null,
   "id": "5cc64aee",
   "metadata": {},
   "outputs": [],
   "source": [
    "import pandas as pd\n",
    "df_customer = pd.DataFrame({\n",
    "    'id': [1,2,3,4],\n",
    "    'name':['tom','Jenny','James','Dan']\n",
    "})\n",
    "df_info = pd.DataFrame({\n",
    "    'id': [2,3,4,5],\n",
    "    'age':[32,20,40,70],\n",
    "    'sex': ['F','M','M','F']\n",
    "})"
   ]
  },
  {
   "cell_type": "code",
   "execution_count": null,
   "id": "78c0478d",
   "metadata": {},
   "outputs": [],
   "source": [
    "df_customer"
   ]
  },
  {
   "cell_type": "code",
   "execution_count": null,
   "id": "c571ea3d",
   "metadata": {},
   "outputs": [],
   "source": [
    "df_info"
   ]
  },
  {
   "cell_type": "code",
   "execution_count": null,
   "id": "34ab49dc",
   "metadata": {},
   "outputs": [],
   "source": [
    "#pd.merge(df_customer,df_info, on = 'id') #specify column to merge"
   ]
  },
  {
   "cell_type": "code",
   "execution_count": null,
   "id": "08b12188",
   "metadata": {},
   "outputs": [],
   "source": [
    "#df_customer.merge(df_info)"
   ]
  },
  {
   "cell_type": "code",
   "execution_count": null,
   "id": "8d830792",
   "metadata": {},
   "outputs": [],
   "source": []
  },
  {
   "cell_type": "code",
   "execution_count": null,
   "id": "577ee1c5",
   "metadata": {},
   "outputs": [],
   "source": []
  },
  {
   "cell_type": "code",
   "execution_count": null,
   "id": "29eb10d9",
   "metadata": {},
   "outputs": [],
   "source": [
    "pd.merge(df_customer, df_order,on = ['id','name'])"
   ]
  },
  {
   "cell_type": "code",
   "execution_count": null,
   "id": "4da387f1",
   "metadata": {},
   "outputs": [],
   "source": [
    "pd.set_option(\"display.max_rows\",100)"
   ]
  },
  {
   "cell_type": "code",
   "execution_count": null,
   "id": "2a9ece3d",
   "metadata": {},
   "outputs": [],
   "source": [
    "data"
   ]
  },
  {
   "cell_type": "code",
   "execution_count": null,
   "id": "0d54bd28",
   "metadata": {},
   "outputs": [],
   "source": [
    "pd.set_option(\"display.max_rows\",100)\n",
    "data"
   ]
  },
  {
   "cell_type": "code",
   "execution_count": null,
   "id": "e3c5426e",
   "metadata": {},
   "outputs": [],
   "source": []
  },
  {
   "cell_type": "code",
   "execution_count": null,
   "id": "0a03f980",
   "metadata": {},
   "outputs": [],
   "source": [
    "df_customer"
   ]
  },
  {
   "cell_type": "code",
   "execution_count": null,
   "id": "b9e19dc6",
   "metadata": {},
   "outputs": [],
   "source": [
    "df_info"
   ]
  },
  {
   "cell_type": "code",
   "execution_count": null,
   "id": "8c9ccde6",
   "metadata": {},
   "outputs": [],
   "source": [
    "pd.merge(df_customer,df_info)"
   ]
  },
  {
   "cell_type": "code",
   "execution_count": null,
   "id": "b005c777",
   "metadata": {},
   "outputs": [],
   "source": [
    "df_order = pd.DataFrame({\n",
    "    'id': [1,2,3,5],\n",
    "    'name':['tom','Jenny','James','Dan'],\n",
    "    'quantity':[2,3,4,5]\n",
    "})\n",
    "df_order"
   ]
  },
  {
   "cell_type": "code",
   "execution_count": null,
   "id": "6f82c11d",
   "metadata": {},
   "outputs": [],
   "source": [
    "df_customer"
   ]
  },
  {
   "cell_type": "code",
   "execution_count": null,
   "id": "78e17a71",
   "metadata": {},
   "outputs": [],
   "source": [
    "pd.merge(df_customer,df_order)"
   ]
  },
  {
   "cell_type": "code",
   "execution_count": null,
   "id": "77390a8b",
   "metadata": {},
   "outputs": [],
   "source": [
    "pd.merge(df_customer,df_order,on=\"id\") #for merging on id"
   ]
  },
  {
   "cell_type": "code",
   "execution_count": null,
   "id": "7ae745cf",
   "metadata": {},
   "outputs": [],
   "source": [
    "pd.merge(df_customer,df_order,on=[\"id\",\"name\"])"
   ]
  },
  {
   "cell_type": "code",
   "execution_count": null,
   "id": "da4a26d5",
   "metadata": {},
   "outputs": [],
   "source": [
    "df_info2 = pd.DataFrame({\n",
    "    \"customer id\":[2,3,4,5],\n",
    "    \"age\":[31,20,40,70],\n",
    "    \"sex\":[\"F\",\"M\",\"M\",\"F\"]\n",
    "})"
   ]
  },
  {
   "cell_type": "code",
   "execution_count": null,
   "id": "db0ccdec",
   "metadata": {},
   "outputs": [],
   "source": [
    "df_info2"
   ]
  },
  {
   "cell_type": "code",
   "execution_count": null,
   "id": "efbe101b",
   "metadata": {},
   "outputs": [],
   "source": [
    "pd.merge(df_customer,df_info2,left_on = \"id\",right_on =\"customer id\") #left on and right on are used when thee is no same column"
   ]
  },
  {
   "cell_type": "code",
   "execution_count": null,
   "id": "e232471d",
   "metadata": {},
   "outputs": [],
   "source": [
    "pd.merge(df_customer,df_info, how = \"left\", on = \"id\") # pd.merge"
   ]
  },
  {
   "cell_type": "code",
   "execution_count": null,
   "id": "60b57caa",
   "metadata": {},
   "outputs": [],
   "source": [
    "pd.merge(df_customer,df_info, how = \"right\", on = \"id\")"
   ]
  },
  {
   "cell_type": "code",
   "execution_count": null,
   "id": "cb8753fd",
   "metadata": {},
   "outputs": [],
   "source": [
    "pd.merge(df_customer,df_info, how = \"outer\", on = \"id\")"
   ]
  },
  {
   "cell_type": "code",
   "execution_count": null,
   "id": "b7f810cc",
   "metadata": {},
   "outputs": [],
   "source": [
    "df2=pd.DataFrame({\n",
    "    \"city\": [\"chicago\",\"newyork\",\"san diego\"],\n",
    "    \"humidity\": [65,68,71]\n",
    "})\n",
    "df1 = pd.DataFrame({\n",
    "    \"city\":[\"newyork\",\"chicago\",\"b\",\"c\"],\n",
    "    \"temp\":[10,20,30,40]\n",
    "})"
   ]
  },
  {
   "cell_type": "code",
   "execution_count": null,
   "id": "745f4e77",
   "metadata": {},
   "outputs": [],
   "source": [
    "pd.merge(df1,df2,on=\"city\",how='outer',indicator=True)"
   ]
  },
  {
   "cell_type": "code",
   "execution_count": null,
   "id": "15ab28de",
   "metadata": {},
   "outputs": [],
   "source": [
    "df1"
   ]
  },
  {
   "cell_type": "code",
   "execution_count": null,
   "id": "dcfcfe9a",
   "metadata": {},
   "outputs": [],
   "source": [
    "df2"
   ]
  },
  {
   "cell_type": "code",
   "execution_count": null,
   "id": "3e31c15d",
   "metadata": {},
   "outputs": [],
   "source": [
    "pd.merge(df1,df2,on = 'city',how='left',suffixes=('a', 'b'),)"
   ]
  },
  {
   "cell_type": "code",
   "execution_count": null,
   "id": "124dd40a",
   "metadata": {},
   "outputs": [],
   "source": [
    "# Define a dictionary containing employee data \n",
    "data1 = {'Name':['Jai', 'Princi', 'Gaurav', 'Anuj','Ijas'], \n",
    "        'Age':[27, 24, 22, 32,50] ,\n",
    "        'Address':['Nagpur', 'Kanpur', 'Allahabad', 'Kannuaj','Kerala'], \n",
    "        'Qualification':['Msc', 'MA', 'MCA', 'Phd','Btech']} \n",
    "   \n",
    "# Define a dictionary containing employee data \n",
    "data2 = {'Name':['Abhi', 'Ayushi', 'Dhiraj', 'Hitesh','Ijas'], \n",
    "        'Age':[17, 14, 12, 52,50], \n",
    "        'Address':['Nagpur', 'Kanpur', 'Allahabad', 'Kannuaj','Tamil Nadu'], \n",
    "        'Qualification':['Btech', 'B.A', 'Bcom', 'B.hons','Btech']} "
   ]
  },
  {
   "cell_type": "code",
   "execution_count": null,
   "id": "2490e99a",
   "metadata": {},
   "outputs": [],
   "source": [
    "print(pd.DataFrame(data1),\"\\n\\n\",pd.DataFrame(data2))"
   ]
  },
  {
   "cell_type": "code",
   "execution_count": null,
   "id": "efa857eb",
   "metadata": {},
   "outputs": [],
   "source": [
    "df = pd.DataFrame(data1,index=[0,1,2,3,4])#specifies index"
   ]
  },
  {
   "cell_type": "code",
   "execution_count": null,
   "id": "beb1be18",
   "metadata": {},
   "outputs": [],
   "source": [
    "df1= pd.DataFrame(data2,index=[5,6,7,8,9])"
   ]
  },
  {
   "cell_type": "code",
   "execution_count": null,
   "id": "4db962d5",
   "metadata": {},
   "outputs": [],
   "source": [
    "print(df,\"\\n\\n\",df1)"
   ]
  },
  {
   "cell_type": "code",
   "execution_count": null,
   "id": "54841884",
   "metadata": {},
   "outputs": [],
   "source": [
    "pd.concat([df,df1])"
   ]
  },
  {
   "cell_type": "code",
   "execution_count": null,
   "id": "b7659033",
   "metadata": {},
   "outputs": [],
   "source": [
    "pd.concat([df,df1],axis=1)"
   ]
  },
  {
   "cell_type": "code",
   "execution_count": null,
   "id": "b5d7d09a",
   "metadata": {},
   "outputs": [],
   "source": [
    "res1=pd.concat([df,df1])\n",
    "res1"
   ]
  },
  {
   "cell_type": "code",
   "execution_count": null,
   "id": "5679a97b",
   "metadata": {},
   "outputs": [],
   "source": [
    "res1.drop_duplicates()"
   ]
  },
  {
   "cell_type": "code",
   "execution_count": null,
   "id": "5eabbba8",
   "metadata": {},
   "outputs": [],
   "source": [
    "res1.drop_duplicates([\"Name\"]) # remove duplicate in name"
   ]
  },
  {
   "cell_type": "code",
   "execution_count": null,
   "id": "27915502",
   "metadata": {},
   "outputs": [],
   "source": [
    "res1.drop_duplicates([\"Name\"],keep='last') # first delete last keep"
   ]
  },
  {
   "cell_type": "code",
   "execution_count": null,
   "id": "20709dc8",
   "metadata": {},
   "outputs": [],
   "source": [
    "df = pd.DataFrame(data1)\n",
    "df1 = pd.DataFrame(data2)"
   ]
  },
  {
   "cell_type": "code",
   "execution_count": null,
   "id": "26813f33",
   "metadata": {},
   "outputs": [],
   "source": [
    "df"
   ]
  },
  {
   "cell_type": "code",
   "execution_count": null,
   "id": "25852d39",
   "metadata": {},
   "outputs": [],
   "source": [
    "df.loc[\"Age\"]"
   ]
  },
  {
   "cell_type": "code",
   "execution_count": null,
   "id": "1d04119b",
   "metadata": {},
   "outputs": [],
   "source": [
    "pd.concat([df,df1])"
   ]
  },
  {
   "cell_type": "code",
   "execution_count": null,
   "id": "550821ba",
   "metadata": {},
   "outputs": [],
   "source": [
    "pd.concat([df,df1],ignore_index=\"True\")# provide index"
   ]
  },
  {
   "cell_type": "code",
   "execution_count": null,
   "id": "f18b970a",
   "metadata": {},
   "outputs": [],
   "source": [
    "pd.concat([df,df1],keys=['keys1','keys2'])"
   ]
  },
  {
   "cell_type": "code",
   "execution_count": 21,
   "id": "11cd067d",
   "metadata": {},
   "outputs": [
    {
     "ename": "NameError",
     "evalue": "name 'df1' is not defined",
     "output_type": "error",
     "traceback": [
      "\u001b[1;31m---------------------------------------------------------------------------\u001b[0m",
      "\u001b[1;31mNameError\u001b[0m                                 Traceback (most recent call last)",
      "\u001b[1;32m~\\AppData\\Local\\Temp/ipykernel_10276/170067123.py\u001b[0m in \u001b[0;36m<module>\u001b[1;34m\u001b[0m\n\u001b[1;32m----> 1\u001b[1;33m \u001b[0mnewdf\u001b[0m \u001b[1;33m=\u001b[0m \u001b[0mpd\u001b[0m\u001b[1;33m.\u001b[0m\u001b[0mconcat\u001b[0m\u001b[1;33m(\u001b[0m\u001b[1;33m[\u001b[0m\u001b[0mdf\u001b[0m\u001b[1;33m,\u001b[0m\u001b[0mdf1\u001b[0m\u001b[1;33m]\u001b[0m\u001b[1;33m,\u001b[0m\u001b[0mkeys\u001b[0m\u001b[1;33m=\u001b[0m\u001b[1;33m[\u001b[0m\u001b[1;34m'keys1'\u001b[0m\u001b[1;33m,\u001b[0m\u001b[1;34m'keys2'\u001b[0m\u001b[1;33m]\u001b[0m\u001b[1;33m)\u001b[0m\u001b[1;33m\u001b[0m\u001b[1;33m\u001b[0m\u001b[0m\n\u001b[0m",
      "\u001b[1;31mNameError\u001b[0m: name 'df1' is not defined"
     ]
    }
   ],
   "source": [
    "newdf = pd.concat([df,df1],keys=['keys1','keys2'])"
   ]
  },
  {
   "cell_type": "code",
   "execution_count": 22,
   "id": "1a3ebdb3",
   "metadata": {},
   "outputs": [
    {
     "ename": "NameError",
     "evalue": "name 'newdf' is not defined",
     "output_type": "error",
     "traceback": [
      "\u001b[1;31m---------------------------------------------------------------------------\u001b[0m",
      "\u001b[1;31mNameError\u001b[0m                                 Traceback (most recent call last)",
      "\u001b[1;32m~\\AppData\\Local\\Temp/ipykernel_10276/3730429784.py\u001b[0m in \u001b[0;36m<module>\u001b[1;34m\u001b[0m\n\u001b[1;32m----> 1\u001b[1;33m \u001b[0mnewdf\u001b[0m\u001b[1;33m.\u001b[0m\u001b[0mloc\u001b[0m\u001b[1;33m[\u001b[0m\u001b[1;34m\"keys1\"\u001b[0m\u001b[1;33m]\u001b[0m\u001b[1;33m\u001b[0m\u001b[1;33m\u001b[0m\u001b[0m\n\u001b[0m",
      "\u001b[1;31mNameError\u001b[0m: name 'newdf' is not defined"
     ]
    }
   ],
   "source": [
    "newdf.loc[\"keys1\"]"
   ]
  },
  {
   "cell_type": "code",
   "execution_count": null,
   "id": "870bbd8e",
   "metadata": {},
   "outputs": [],
   "source": [
    "newdf.to_csv(\"sample5.csv\")"
   ]
  },
  {
   "cell_type": "code",
   "execution_count": 19,
   "id": "e5105148",
   "metadata": {},
   "outputs": [],
   "source": [
    "df = pd.read_csv(\"data/data.csv\")"
   ]
  },
  {
   "cell_type": "code",
   "execution_count": null,
   "id": "d0f73171",
   "metadata": {},
   "outputs": [],
   "source": [
    "import matplotlib.pyplot as plt"
   ]
  },
  {
   "cell_type": "code",
   "execution_count": null,
   "id": "00cdc6dc",
   "metadata": {},
   "outputs": [],
   "source": [
    "df.plot()\n",
    "plt.show()"
   ]
  },
  {
   "cell_type": "code",
   "execution_count": null,
   "id": "9bd2dc82",
   "metadata": {},
   "outputs": [],
   "source": [
    "df"
   ]
  },
  {
   "cell_type": "code",
   "execution_count": null,
   "id": "d81fdeb6",
   "metadata": {},
   "outputs": [],
   "source": [
    "df.plot(x=\"Duration\",y=\"Calories\",kind=\"scatter\")\n",
    "plt.show()"
   ]
  },
  {
   "cell_type": "code",
   "execution_count": null,
   "id": "bbb7b070",
   "metadata": {},
   "outputs": [],
   "source": [
    "df.plot(x=\"Duration\",y=\"Maxpulse\",kind=\"scatter\") \n",
    "plt.show()"
   ]
  },
  {
   "cell_type": "code",
   "execution_count": null,
   "id": "5d4a90ee",
   "metadata": {},
   "outputs": [],
   "source": [
    "df[\"Duration\"].value_counts()"
   ]
  },
  {
   "cell_type": "code",
   "execution_count": null,
   "id": "fcfad32d",
   "metadata": {},
   "outputs": [],
   "source": [
    "df[\"Duration\"].plot(kind='hist')# frequncy of occurency of 50\n",
    "plt.show()"
   ]
  },
  {
   "cell_type": "code",
   "execution_count": null,
   "id": "7280bfde",
   "metadata": {},
   "outputs": [],
   "source": [
    "df[\"Calories\"].plot(kind=\"hist\")\n",
    "plt.show()"
   ]
  },
  {
   "cell_type": "code",
   "execution_count": null,
   "id": "5744db1a",
   "metadata": {},
   "outputs": [],
   "source": [
    "df[\"Pulse\"].plot(kind='hist')"
   ]
  },
  {
   "cell_type": "code",
   "execution_count": null,
   "id": "5985608c",
   "metadata": {},
   "outputs": [],
   "source": [
    "df[\"Pulse\"].plot(kind='bar')"
   ]
  },
  {
   "cell_type": "code",
   "execution_count": 23,
   "id": "2e5b9731",
   "metadata": {},
   "outputs": [],
   "source": [
    "data= df"
   ]
  },
  {
   "cell_type": "code",
   "execution_count": 24,
   "id": "a5e84699",
   "metadata": {
    "scrolled": true
   },
   "outputs": [
    {
     "name": "stdout",
     "output_type": "stream",
     "text": [
      "Shape of the data :\n",
      " (169, 4)\n",
      "\n",
      "\n",
      " Data type of the given data :\n",
      "  Duration      int64\n",
      "Pulse         int64\n",
      "Maxpulse      int64\n",
      "Calories    float64\n",
      "dtype: object\n",
      "\n",
      "\n",
      " First 5 data :\n",
      "    Duration  Pulse  Maxpulse  Calories\n",
      "0        60    110       130     409.1\n",
      "1        60    117       145     479.0\n",
      "2        60    103       135     340.0\n",
      "3        45    109       175     282.4\n",
      "4        45    117       148     406.0\n",
      " \n",
      "\n",
      "Last 5 data :\n",
      "      Duration  Pulse  Maxpulse  Calories\n",
      "164        60    105       140     290.8\n",
      "165        60    110       145     300.0\n",
      "166        60    115       145     310.2\n",
      "167        75    120       150     320.4\n",
      "168        75    125       150     330.4\n",
      "\n",
      "\n",
      " Describing the data :\n",
      "  <bound method NDFrame.describe of      Duration  Pulse  Maxpulse  Calories\n",
      "0          60    110       130     409.1\n",
      "1          60    117       145     479.0\n",
      "2          60    103       135     340.0\n",
      "3          45    109       175     282.4\n",
      "4          45    117       148     406.0\n",
      "..        ...    ...       ...       ...\n",
      "164        60    105       140     290.8\n",
      "165        60    110       145     300.0\n",
      "166        60    115       145     310.2\n",
      "167        75    120       150     320.4\n",
      "168        75    125       150     330.4\n",
      "\n",
      "[169 rows x 4 columns]>\n",
      "<class 'pandas.core.frame.DataFrame'>\n",
      "RangeIndex: 169 entries, 0 to 168\n",
      "Data columns (total 4 columns):\n",
      " #   Column    Non-Null Count  Dtype  \n",
      "---  ------    --------------  -----  \n",
      " 0   Duration  169 non-null    int64  \n",
      " 1   Pulse     169 non-null    int64  \n",
      " 2   Maxpulse  169 non-null    int64  \n",
      " 3   Calories  164 non-null    float64\n",
      "dtypes: float64(1), int64(3)\n",
      "memory usage: 5.4 KB\n",
      "\n",
      "\n",
      " Info of the data :\n",
      " None\n",
      "\n",
      "\n",
      " Finding the missing value:\n",
      " Duration    0\n",
      "Pulse       0\n",
      "Maxpulse    0\n",
      "Calories    5\n",
      "dtype: int64\n"
     ]
    }
   ],
   "source": [
    "summaryofdata(data)"
   ]
  },
  {
   "cell_type": "code",
   "execution_count": 25,
   "id": "27f8259f",
   "metadata": {},
   "outputs": [],
   "source": [
    "data=pd.read_csv('data/supermarket_sales.csv')"
   ]
  },
  {
   "cell_type": "code",
   "execution_count": 27,
   "id": "fd96a279",
   "metadata": {},
   "outputs": [
    {
     "name": "stdout",
     "output_type": "stream",
     "text": [
      "<class 'pandas.core.frame.DataFrame'>\n",
      "RangeIndex: 1000 entries, 0 to 999\n",
      "Data columns (total 17 columns):\n",
      " #   Column                   Non-Null Count  Dtype  \n",
      "---  ------                   --------------  -----  \n",
      " 0   Invoice ID               1000 non-null   object \n",
      " 1   Branch                   1000 non-null   object \n",
      " 2   City                     1000 non-null   object \n",
      " 3   Customer type            1000 non-null   object \n",
      " 4   Gender                   1000 non-null   object \n",
      " 5   Product line             1000 non-null   object \n",
      " 6   Unit price               1000 non-null   float64\n",
      " 7   Quantity                 1000 non-null   int64  \n",
      " 8   Tax 5%                   1000 non-null   float64\n",
      " 9   Total                    1000 non-null   object \n",
      " 10  Date                     1000 non-null   object \n",
      " 11  Time                     1000 non-null   object \n",
      " 12  Payment                  1000 non-null   object \n",
      " 13  cogs                     1000 non-null   float64\n",
      " 14  gross margin percentage  1000 non-null   float64\n",
      " 15  gross income             1000 non-null   float64\n",
      " 16  Rating                   1000 non-null   float64\n",
      "dtypes: float64(6), int64(1), object(10)\n",
      "memory usage: 132.9+ KB\n"
     ]
    }
   ],
   "source": [
    "data.info()"
   ]
  },
  {
   "cell_type": "code",
   "execution_count": 26,
   "id": "35ec805b",
   "metadata": {},
   "outputs": [
    {
     "name": "stdout",
     "output_type": "stream",
     "text": [
      "Shape of the data :\n",
      " (1000, 17)\n",
      "\n",
      "\n",
      " Data type of the given data :\n",
      "  Invoice ID                  object\n",
      "Branch                      object\n",
      "City                        object\n",
      "Customer type               object\n",
      "Gender                      object\n",
      "Product line                object\n",
      "Unit price                 float64\n",
      "Quantity                     int64\n",
      "Tax 5%                     float64\n",
      "Total                       object\n",
      "Date                        object\n",
      "Time                        object\n",
      "Payment                     object\n",
      "cogs                       float64\n",
      "gross margin percentage    float64\n",
      "gross income               float64\n",
      "Rating                     float64\n",
      "dtype: object\n",
      "\n",
      "\n",
      " First 5 data :\n",
      "     Invoice ID Branch       City Customer type  Gender  \\\n",
      "0  750-67-8428      A     Yangon        Member  Female   \n",
      "1  226-31-3081      C  Naypyitaw        Normal  Female   \n",
      "2  631-41-3108      A     Yangon        Normal    Male   \n",
      "3  123-19-1176      A     Yangon        Member    Male   \n",
      "4  373-73-7910      A     Yangon        Normal    Male   \n",
      "\n",
      "             Product line  Unit price  Quantity   Tax 5%     Total  \\\n",
      "0       Health and beauty       74.69         7  26.1415  548.9715   \n",
      "1  Electronic accessories       15.28         5   3.8200     80.22   \n",
      "2      Home and lifestyle       46.33         7  16.2155  340.5255   \n",
      "3       Health and beauty       58.22         8  23.2880   489.048   \n",
      "4       Sports and travel       86.31         7  30.2085  634.3785   \n",
      "\n",
      "         Date   Time      Payment    cogs  gross margin percentage  \\\n",
      "0  01-05-2019  13:08      Ewallet  522.83                 4.761905   \n",
      "1  03-08-2019  10:29         Cash   76.40                 4.761905   \n",
      "2  03-03-2019  13:23  Credit card  324.31                 4.761905   \n",
      "3   1/27/2019  20:33      Ewallet  465.76                 4.761905   \n",
      "4  02-08-2019  10:37      Ewallet  604.17                 4.761905   \n",
      "\n",
      "   gross income  Rating  \n",
      "0       26.1415     9.1  \n",
      "1        3.8200     9.6  \n",
      "2       16.2155     7.4  \n",
      "3       23.2880     8.4  \n",
      "4       30.2085     5.3  \n",
      " \n",
      "\n",
      "Last 5 data :\n",
      "       Invoice ID Branch       City Customer type  Gender         Product line  \\\n",
      "995  233-67-5758      C  Naypyitaw        Normal    Male    Health and beauty   \n",
      "996  303-96-2227      B   Mandalay        Normal  Female   Home and lifestyle   \n",
      "997  727-02-1313      A     Yangon        Member    Male   Food and beverages   \n",
      "998  347-56-2442      A     Yangon        Normal    Male   Home and lifestyle   \n",
      "999  849-09-3807      A     Yangon        Member  Female  Fashion accessories   \n",
      "\n",
      "     Unit price  Quantity   Tax 5%    Total        Date   Time  Payment  \\\n",
      "995       40.35         1   2.0175  42.3675   1/29/2019  13:46  Ewallet   \n",
      "996       97.38        10  48.6900  1022.49  03-02-2019  17:16  Ewallet   \n",
      "997       31.84         1   1.5920   33.432  02-09-2019  13:22     Cash   \n",
      "998       65.82         1   3.2910   69.111   2/22/2019  15:33     Cash   \n",
      "999       88.34         7  30.9190  649.299   2/18/2019  13:28     Cash   \n",
      "\n",
      "       cogs  gross margin percentage  gross income  Rating  \n",
      "995   40.35                 4.761905        2.0175     6.2  \n",
      "996  973.80                 4.761905       48.6900     4.4  \n",
      "997   31.84                 4.761905        1.5920     7.7  \n",
      "998   65.82                 4.761905        3.2910     4.1  \n",
      "999  618.38                 4.761905       30.9190     6.6  \n",
      "\n",
      "\n",
      " Describing the data :\n",
      "  <bound method NDFrame.describe of       Invoice ID Branch       City Customer type  Gender  \\\n",
      "0    750-67-8428      A     Yangon        Member  Female   \n",
      "1    226-31-3081      C  Naypyitaw        Normal  Female   \n",
      "2    631-41-3108      A     Yangon        Normal    Male   \n",
      "3    123-19-1176      A     Yangon        Member    Male   \n",
      "4    373-73-7910      A     Yangon        Normal    Male   \n",
      "..           ...    ...        ...           ...     ...   \n",
      "995  233-67-5758      C  Naypyitaw        Normal    Male   \n",
      "996  303-96-2227      B   Mandalay        Normal  Female   \n",
      "997  727-02-1313      A     Yangon        Member    Male   \n",
      "998  347-56-2442      A     Yangon        Normal    Male   \n",
      "999  849-09-3807      A     Yangon        Member  Female   \n",
      "\n",
      "               Product line  Unit price  Quantity   Tax 5%     Total  \\\n",
      "0         Health and beauty       74.69         7  26.1415  548.9715   \n",
      "1    Electronic accessories       15.28         5   3.8200     80.22   \n",
      "2        Home and lifestyle       46.33         7  16.2155  340.5255   \n",
      "3         Health and beauty       58.22         8  23.2880   489.048   \n",
      "4         Sports and travel       86.31         7  30.2085  634.3785   \n",
      "..                      ...         ...       ...      ...       ...   \n",
      "995       Health and beauty       40.35         1   2.0175   42.3675   \n",
      "996      Home and lifestyle       97.38        10  48.6900   1022.49   \n",
      "997      Food and beverages       31.84         1   1.5920    33.432   \n",
      "998      Home and lifestyle       65.82         1   3.2910    69.111   \n",
      "999     Fashion accessories       88.34         7  30.9190   649.299   \n",
      "\n",
      "           Date   Time      Payment    cogs  gross margin percentage  \\\n",
      "0    01-05-2019  13:08      Ewallet  522.83                 4.761905   \n",
      "1    03-08-2019  10:29         Cash   76.40                 4.761905   \n",
      "2    03-03-2019  13:23  Credit card  324.31                 4.761905   \n",
      "3     1/27/2019  20:33      Ewallet  465.76                 4.761905   \n",
      "4    02-08-2019  10:37      Ewallet  604.17                 4.761905   \n",
      "..          ...    ...          ...     ...                      ...   \n",
      "995   1/29/2019  13:46      Ewallet   40.35                 4.761905   \n",
      "996  03-02-2019  17:16      Ewallet  973.80                 4.761905   \n",
      "997  02-09-2019  13:22         Cash   31.84                 4.761905   \n",
      "998   2/22/2019  15:33         Cash   65.82                 4.761905   \n",
      "999   2/18/2019  13:28         Cash  618.38                 4.761905   \n",
      "\n",
      "     gross income  Rating  \n",
      "0         26.1415     9.1  \n",
      "1          3.8200     9.6  \n",
      "2         16.2155     7.4  \n",
      "3         23.2880     8.4  \n",
      "4         30.2085     5.3  \n",
      "..            ...     ...  \n",
      "995        2.0175     6.2  \n",
      "996       48.6900     4.4  \n",
      "997        1.5920     7.7  \n",
      "998        3.2910     4.1  \n",
      "999       30.9190     6.6  \n",
      "\n",
      "[1000 rows x 17 columns]>\n",
      "<class 'pandas.core.frame.DataFrame'>\n",
      "RangeIndex: 1000 entries, 0 to 999\n",
      "Data columns (total 17 columns):\n",
      " #   Column                   Non-Null Count  Dtype  \n",
      "---  ------                   --------------  -----  \n",
      " 0   Invoice ID               1000 non-null   object \n",
      " 1   Branch                   1000 non-null   object \n",
      " 2   City                     1000 non-null   object \n",
      " 3   Customer type            1000 non-null   object \n",
      " 4   Gender                   1000 non-null   object \n",
      " 5   Product line             1000 non-null   object \n",
      " 6   Unit price               1000 non-null   float64\n",
      " 7   Quantity                 1000 non-null   int64  \n",
      " 8   Tax 5%                   1000 non-null   float64\n",
      " 9   Total                    1000 non-null   object \n",
      " 10  Date                     1000 non-null   object \n",
      " 11  Time                     1000 non-null   object \n",
      " 12  Payment                  1000 non-null   object \n",
      " 13  cogs                     1000 non-null   float64\n",
      " 14  gross margin percentage  1000 non-null   float64\n",
      " 15  gross income             1000 non-null   float64\n",
      " 16  Rating                   1000 non-null   float64\n",
      "dtypes: float64(6), int64(1), object(10)\n",
      "memory usage: 132.9+ KB\n",
      "\n",
      "\n",
      " Info of the data :\n",
      " None\n",
      "\n",
      "\n",
      " Finding the missing value:\n",
      " Invoice ID                 0\n",
      "Branch                     0\n",
      "City                       0\n",
      "Customer type              0\n",
      "Gender                     0\n",
      "Product line               0\n",
      "Unit price                 0\n",
      "Quantity                   0\n",
      "Tax 5%                     0\n",
      "Total                      0\n",
      "Date                       0\n",
      "Time                       0\n",
      "Payment                    0\n",
      "cogs                       0\n",
      "gross margin percentage    0\n",
      "gross income               0\n",
      "Rating                     0\n",
      "dtype: int64\n"
     ]
    }
   ],
   "source": [
    "summaryofdata(data)"
   ]
  },
  {
   "cell_type": "code",
   "execution_count": null,
   "id": "50f1ba8f",
   "metadata": {},
   "outputs": [],
   "source": []
  }
 ],
 "metadata": {
  "kernelspec": {
   "display_name": "Python 3 (ipykernel)",
   "language": "python",
   "name": "python3"
  },
  "language_info": {
   "codemirror_mode": {
    "name": "ipython",
    "version": 3
   },
   "file_extension": ".py",
   "mimetype": "text/x-python",
   "name": "python",
   "nbconvert_exporter": "python",
   "pygments_lexer": "ipython3",
   "version": "3.9.7"
  }
 },
 "nbformat": 4,
 "nbformat_minor": 5
}
